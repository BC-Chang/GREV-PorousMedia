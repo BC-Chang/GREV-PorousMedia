{
 "cells": [
  {
   "cell_type": "markdown",
   "metadata": {},
   "source": [
    "#### Import all libraries"
   ]
  },
  {
   "cell_type": "code",
   "execution_count": 1,
   "metadata": {},
   "outputs": [],
   "source": [
    "from __future__ import print_function\n",
    "import os\n",
    "import collections\n",
    "import SimpleITK as sitk\n",
    "import numpy as np\n",
    "import six\n",
    "import radiomics\n",
    "from radiomics import firstorder, glcm, imageoperations, shape, glrlm, glszm, getTestCase\n",
    "#import scipy as sp\n",
    "#import matplotlib as mpl\n",
    "#import matplotlib.pyplot as plt\n",
    "#from pathlib import Path\n",
    "import sys\n",
    "import logging as logger\n",
    "import time\n",
    "import json\n",
    "import os\n",
    "import logging.config\n",
    "import pandas as pd\n",
    "import gc\n",
    "import math"
   ]
  },
  {
   "cell_type": "code",
   "execution_count": 2,
   "metadata": {},
   "outputs": [],
   "source": [
    "#Read the entire Benthiemer sandstone\n",
    "global image_1, label_1\n",
    "#change the path to the correct directory before running the code\n",
    "# please note: the dimensions of the image is 800 x 800 x 800\n",
    "image_1 = sitk.ReadImage('D:\\\\Ankita PhD\\\\pyradiomics\\\\data\\\\bentheimer_nrrd_8bit_800cube.nrrd')"
   ]
  },
  {
   "cell_type": "markdown",
   "metadata": {},
   "source": [
    "#### Extraction Settings"
   ]
  },
  {
   "cell_type": "code",
   "execution_count": 3,
   "metadata": {},
   "outputs": [],
   "source": [
    "settings = {}\n",
    "settings['label'] = 255\n",
    "settings['binWidth'] = 1"
   ]
  },
  {
   "cell_type": "markdown",
   "metadata": {},
   "source": [
    "#### Log messages"
   ]
  },
  {
   "cell_type": "code",
   "execution_count": 12,
   "metadata": {},
   "outputs": [],
   "source": [
    "log_file = 'D:\\\\Ankita PhD\\\\pyradiomics\\\\notebooks\\\\log_bentheimer_8bit_attempt12.txt'\n",
    "handler = logging.FileHandler(filename=log_file, mode='w')  # overwrites log_files from previous runs. Change mode to 'a' to append.\n",
    "formatter = logging.Formatter(\"%(levelname)s:%(name)s: %(message)s\")  # format string for log messages\n",
    "handler.setFormatter(formatter)\n",
    "radiomics.logger.addHandler(handler)\n",
    "\n",
    "# Control the amount of logging stored by setting the level of the logger. N.B. if the level is higher than the\n",
    "# Verbositiy level, the logger level will also determine the amount of information printed to the output\n",
    "radiomics.logger.setLevel(logging.DEBUG)"
   ]
  },
  {
   "cell_type": "code",
   "execution_count": 13,
   "metadata": {
    "scrolled": true
   },
   "outputs": [
    {
     "name": "stdout",
     "output_type": "stream",
     "text": [
      "Enabled GLSZM features...\n",
      "Calculated GLSZM features: \n",
      "Completed Domain Calculations for Window  10 . Stored all the values too.\n",
      "Wall time: 5.24 s\n"
     ]
    }
   ],
   "source": [
    "%%time\n",
    "# the size of the mask should be the same as that of the image\n",
    "mask_x = 800\n",
    "mask_y = 800\n",
    "mask_z = 800\n",
    "\n",
    "v1 = []\n",
    "v2 = []\n",
    "v3 = []\n",
    "v4 = []\n",
    "v5 = []\n",
    "v6 = []\n",
    "v7 = []\n",
    "v8 = []\n",
    "v9 = []\n",
    "v10 = []\n",
    "v11 = []\n",
    "v12 = []\n",
    "v13 = []\n",
    "v14 = []\n",
    "v15 = []\n",
    "v16 = []\n",
    "\n",
    "# here the window_size refers to the region of mask that will be used to segment the ROI from the image. The window\n",
    "# sizes increase with every iteration\n",
    "u_window_size = [10]#, 20, 30, 40, 50, 60, 100, 150, 200, 250, 300, 350, 400, 450, 500, 550, 600, 650, 700]\n",
    "global window_size, total_iter, expect_iter, i_loc, j_loc, z_loc, bb, correctedMask, croppedImage, croppedMask, glcm_window\n",
    "for window_size in u_window_size:  \n",
    "    \n",
    "    i_loc = int((mask_x - window_size)/2)\n",
    "    j_loc = int((mask_y - window_size)/2)\n",
    "    k_loc = int((mask_z - window_size)/2)\n",
    "    \n",
    "    # Generate the mask\n",
    "    full_mask = np.zeros((mask_x, mask_y, mask_z), dtype = np.uint8)\n",
    "    full_mask[i_loc:i_loc+window_size,j_loc:j_loc+window_size,k_loc:k_loc+window_size] = 255\n",
    "    #print(\"Window Location\", str(i_loc), str(i_loc+window_size), str(j_loc), str(j_loc+window_size), str(k_loc), str(k_loc+window_size))\n",
    "    label_1 = sitk.GetImageFromArray(full_mask, isVector=False)\n",
    "    label_1.CopyInformation(image_1)\n",
    "    del full_mask\n",
    "\n",
    "    bb, correctedMask = imageoperations.checkMask(image_1, label_1, label=255)\n",
    "    if correctedMask is not None:\n",
    "        label_1 = correctedMask\n",
    "    croppedImage, croppedMask = imageoperations.cropToTumorMask(image_1, label_1, bb)\n",
    "    del correctedMask, label_1\n",
    "\n",
    "    #calculate secondorder stats\n",
    "    glszmFeatures = glszm.RadiomicsGLSZM(croppedImage, croppedMask, **settings)\n",
    "    glszmFeatures.enableAllFeatures()\n",
    "    print('Enabled GLSZM features...',)\n",
    "    result = glszmFeatures.execute()\n",
    "\n",
    "    print('Calculated GLSZM features: ')\n",
    "    for (key, val) in six.iteritems(result):\n",
    "        if key =='GrayLevelNonUniformity':\n",
    "            v1.append(val)\n",
    "        if key =='GrayLevelNonUniformityNormalized':\n",
    "            v2.append(val)\n",
    "        if key =='GrayLevelVariance':\n",
    "            v3.append(val)\n",
    "        if key =='HighGrayLevelZoneEmphasis':\n",
    "            v4.append(val)\n",
    "        if key == 'LargeAreaEmphasis':\n",
    "            v5.append(val)\n",
    "        if key == 'LargeAreaHighGrayLevelEmphasis':\n",
    "            v6.append(val)\n",
    "        if key == 'LargeAreaLowGrayLevelEmphasis':\n",
    "            v7.append(val)\n",
    "        if key == 'LowGrayLevelZoneEmphasis':\n",
    "            v8.append(val) \n",
    "        if key == 'SizeZoneNonUniformity':\n",
    "            v9.append(val)\n",
    "        if key == 'SizeZoneNonUniformityNormalized':\n",
    "            v10.append(val)\n",
    "        if key == 'SmallAreaEmphasis':\n",
    "            v11.append(val)\n",
    "        if key == 'SmallAreaHighGrayLevelEmphasis':\n",
    "            v12.append(val)\n",
    "        if key == 'SmallAreaLowGrayLevelEmphasis':\n",
    "            v13.append(val)\n",
    "        if key == 'ZoneEntropy':\n",
    "            v14.append(val)\n",
    "        if key == 'ZonePercentage':\n",
    "            v15.append(val)\n",
    "        if key == 'ZoneVariance':\n",
    "            v16.append(val)\n",
    "\n",
    "print(\"Completed Domain Calculations for Window \", str(window_size), \". Stored all the values too.\")"
   ]
  },
  {
   "cell_type": "code",
   "execution_count": 14,
   "metadata": {},
   "outputs": [
    {
     "data": {
      "text/html": [
       "<div>\n",
       "<style scoped>\n",
       "    .dataframe tbody tr th:only-of-type {\n",
       "        vertical-align: middle;\n",
       "    }\n",
       "\n",
       "    .dataframe tbody tr th {\n",
       "        vertical-align: top;\n",
       "    }\n",
       "\n",
       "    .dataframe thead th {\n",
       "        text-align: right;\n",
       "    }\n",
       "</style>\n",
       "<table border=\"1\" class=\"dataframe\">\n",
       "  <thead>\n",
       "    <tr style=\"text-align: right;\">\n",
       "      <th></th>\n",
       "      <th>Window Sizes</th>\n",
       "      <th>GrayLevelNonUniformity</th>\n",
       "      <th>GrayLevelNonUniformityNormalized</th>\n",
       "      <th>GrayLevelVariance</th>\n",
       "      <th>HighGrayLevelZoneEmphasis</th>\n",
       "      <th>LargeAreaEmphasis</th>\n",
       "      <th>LargeAreaHighGrayLevelEmphasis</th>\n",
       "      <th>LargeAreaLowGrayLevelEmphasis</th>\n",
       "      <th>LowGrayLevelZoneEmphasis</th>\n",
       "      <th>SizeZoneNonUniformity</th>\n",
       "      <th>SizeZoneNonUniformityNormalized</th>\n",
       "      <th>SmallAreaEmphasis</th>\n",
       "      <th>SmallAreaHighGrayLevelEmphasis</th>\n",
       "      <th>SmallAreaLowGrayLevelEmphasis</th>\n",
       "      <th>ZoneEntropy</th>\n",
       "      <th>ZonePercentage</th>\n",
       "      <th>ZoneVariance</th>\n",
       "    </tr>\n",
       "  </thead>\n",
       "  <tbody>\n",
       "    <tr>\n",
       "      <th>0</th>\n",
       "      <td>10</td>\n",
       "      <td>5.48</td>\n",
       "      <td>0.2192</td>\n",
       "      <td>121.86240000000001</td>\n",
       "      <td>271.68</td>\n",
       "      <td>19456.24</td>\n",
       "      <td>892640.28</td>\n",
       "      <td>569.3150838003149</td>\n",
       "      <td>0.3637935038246308</td>\n",
       "      <td>3.96</td>\n",
       "      <td>0.1584</td>\n",
       "      <td>0.31584257973016955</td>\n",
       "      <td>92.71704170381952</td>\n",
       "      <td>0.07850399721257906</td>\n",
       "      <td>4.213660689688179</td>\n",
       "      <td>0.025</td>\n",
       "      <td>17856.24</td>\n",
       "    </tr>\n",
       "  </tbody>\n",
       "</table>\n",
       "</div>"
      ],
      "text/plain": [
       "   Window Sizes GrayLevelNonUniformity GrayLevelNonUniformityNormalized  \\\n",
       "0            10                   5.48                           0.2192   \n",
       "\n",
       "    GrayLevelVariance HighGrayLevelZoneEmphasis LargeAreaEmphasis  \\\n",
       "0  121.86240000000001                    271.68          19456.24   \n",
       "\n",
       "  LargeAreaHighGrayLevelEmphasis LargeAreaLowGrayLevelEmphasis  \\\n",
       "0                      892640.28             569.3150838003149   \n",
       "\n",
       "  LowGrayLevelZoneEmphasis SizeZoneNonUniformity  \\\n",
       "0       0.3637935038246308                  3.96   \n",
       "\n",
       "  SizeZoneNonUniformityNormalized    SmallAreaEmphasis  \\\n",
       "0                          0.1584  0.31584257973016955   \n",
       "\n",
       "  SmallAreaHighGrayLevelEmphasis SmallAreaLowGrayLevelEmphasis  \\\n",
       "0              92.71704170381952           0.07850399721257906   \n",
       "\n",
       "         ZoneEntropy ZonePercentage ZoneVariance  \n",
       "0  4.213660689688179          0.025     17856.24  "
      ]
     },
     "execution_count": 14,
     "metadata": {},
     "output_type": "execute_result"
    }
   ],
   "source": [
    "my_df = pd.DataFrame(list(zip(u_window_size, v1, v2, v3, v4, v5, v6, v7, v8, v9, v10, v11, v12, v13, v14, v15, v16)))\n",
    "my_df.rename(index = str, columns={0: \"Window Sizes\", 1: \"GrayLevelNonUniformity\", 2: \"GrayLevelNonUniformityNormalized\", \\\n",
    "                                   3: \"GrayLevelVariance\", 4: \"HighGrayLevelZoneEmphasis\", 5: \"LargeAreaEmphasis\", \\\n",
    "                                   6: \"LargeAreaHighGrayLevelEmphasis\", 7: \"LargeAreaLowGrayLevelEmphasis\", 8: \"LowGrayLevelZoneEmphasis\", \\\n",
    "                                   9: \"SizeZoneNonUniformity\", 10: \"SizeZoneNonUniformityNormalized\", 11: \"SmallAreaEmphasis\", \\\n",
    "                                   12: \"SmallAreaHighGrayLevelEmphasis\", 13: \"SmallAreaLowGrayLevelEmphasis\", 14: \"ZoneEntropy\", \\\n",
    "                                   15: \"ZonePercentage\", 16: \"ZoneVariance\"})"
   ]
  },
  {
   "cell_type": "code",
   "execution_count": null,
   "metadata": {},
   "outputs": [],
   "source": [
    "name_csv = 'glszm_bentheimer_8bit_dc_attempt11.csv'\n",
    "my_df.to_csv(name_csv, index=False, header=True)"
   ]
  },
  {
   "cell_type": "code",
   "execution_count": null,
   "metadata": {},
   "outputs": [],
   "source": []
  }
 ],
 "metadata": {
  "kernelspec": {
   "display_name": "REV_New",
   "language": "python",
   "name": "rev_new"
  },
  "language_info": {
   "codemirror_mode": {
    "name": "ipython",
    "version": 3
   },
   "file_extension": ".py",
   "mimetype": "text/x-python",
   "name": "python",
   "nbconvert_exporter": "python",
   "pygments_lexer": "ipython3",
   "version": "3.6.8"
  }
 },
 "nbformat": 4,
 "nbformat_minor": 2
}
