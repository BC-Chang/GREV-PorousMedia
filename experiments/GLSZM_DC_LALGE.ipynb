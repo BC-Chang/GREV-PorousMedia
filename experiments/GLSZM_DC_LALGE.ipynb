{
 "cells": [
  {
   "cell_type": "markdown",
   "metadata": {},
   "source": [
    "#### Import all libraries"
   ]
  },
  {
   "cell_type": "code",
   "execution_count": 12,
   "metadata": {},
   "outputs": [],
   "source": [
    "from __future__ import print_function\n",
    "import os\n",
    "import collections\n",
    "import SimpleITK as sitk\n",
    "import numpy as np\n",
    "import six\n",
    "import radiomics\n",
    "from radiomics import firstorder, glcm, imageoperations, shape, glrlm, glszm, getTestCase\n",
    "import sys\n",
    "import logging as logger\n",
    "import time\n",
    "import json\n",
    "import os\n",
    "import logging.config\n",
    "import pandas as pd\n",
    "import gc\n",
    "import math"
   ]
  },
  {
   "cell_type": "code",
   "execution_count": 13,
   "metadata": {},
   "outputs": [
    {
     "name": "stdout",
     "output_type": "stream",
     "text": [
      "Before starting the entire loop. First Check what is the maximum size of the rock you can run the code for...\n"
     ]
    }
   ],
   "source": [
    "print(\"Before starting the entire loop. First Check what is the maximum size of the rock you can run the code for...\")"
   ]
  },
  {
   "cell_type": "markdown",
   "metadata": {},
   "source": [
    "#### Automate the GLSZM feature extraction process"
   ]
  },
  {
   "cell_type": "code",
   "execution_count": 14,
   "metadata": {},
   "outputs": [
    {
     "name": "stdout",
     "output_type": "stream",
     "text": [
      "Starting the automation loop for GLSZM feature extraction\n",
      "Starting the domain centre calculcation for image 6\n",
      "Cropped Mask and Image created for domain centre size = 650\n",
      "Enabled GLSZM features...\n"
     ]
    },
    {
     "ename": "MemoryError",
     "evalue": "",
     "output_type": "error",
     "traceback": [
      "\u001b[1;31m---------------------------------------------------------------------------\u001b[0m",
      "\u001b[1;31mMemoryError\u001b[0m                               Traceback (most recent call last)",
      "\u001b[1;32m<timed exec>\u001b[0m in \u001b[0;36m<module>\u001b[1;34m\u001b[0m\n",
      "\u001b[1;32m~\\Anaconda3\\envs\\REV_New\\lib\\site-packages\\pyradiomics-2.2.0.post14.dev0+g3b6b37c-py3.6-win-amd64.egg\\radiomics\\base.py\u001b[0m in \u001b[0;36mexecute\u001b[1;34m(self)\u001b[0m\n\u001b[0;32m    183\u001b[0m       \u001b[0mself\u001b[0m\u001b[1;33m.\u001b[0m\u001b[0m_calculateVoxels\u001b[0m\u001b[1;33m(\u001b[0m\u001b[1;33m)\u001b[0m\u001b[1;33m\u001b[0m\u001b[1;33m\u001b[0m\u001b[0m\n\u001b[0;32m    184\u001b[0m     \u001b[1;32melse\u001b[0m\u001b[1;33m:\u001b[0m\u001b[1;33m\u001b[0m\u001b[1;33m\u001b[0m\u001b[0m\n\u001b[1;32m--> 185\u001b[1;33m       \u001b[0mself\u001b[0m\u001b[1;33m.\u001b[0m\u001b[0m_calculateSegment\u001b[0m\u001b[1;33m(\u001b[0m\u001b[1;33m)\u001b[0m\u001b[1;33m\u001b[0m\u001b[1;33m\u001b[0m\u001b[0m\n\u001b[0m\u001b[0;32m    186\u001b[0m \u001b[1;33m\u001b[0m\u001b[0m\n\u001b[0;32m    187\u001b[0m     \u001b[1;32mreturn\u001b[0m \u001b[0mself\u001b[0m\u001b[1;33m.\u001b[0m\u001b[0mfeatureValues\u001b[0m\u001b[1;33m\u001b[0m\u001b[1;33m\u001b[0m\u001b[0m\n",
      "\u001b[1;32m~\\Anaconda3\\envs\\REV_New\\lib\\site-packages\\pyradiomics-2.2.0.post14.dev0+g3b6b37c-py3.6-win-amd64.egg\\radiomics\\base.py\u001b[0m in \u001b[0;36m_calculateSegment\u001b[1;34m(self)\u001b[0m\n\u001b[0;32m    225\u001b[0m   \u001b[1;32mdef\u001b[0m \u001b[0m_calculateSegment\u001b[0m\u001b[1;33m(\u001b[0m\u001b[0mself\u001b[0m\u001b[1;33m)\u001b[0m\u001b[1;33m:\u001b[0m\u001b[1;33m\u001b[0m\u001b[1;33m\u001b[0m\u001b[0m\n\u001b[0;32m    226\u001b[0m     \u001b[1;31m# Get the feature values using the current segment.\u001b[0m\u001b[1;33m\u001b[0m\u001b[1;33m\u001b[0m\u001b[1;33m\u001b[0m\u001b[0m\n\u001b[1;32m--> 227\u001b[1;33m     \u001b[1;32mfor\u001b[0m \u001b[0msuccess\u001b[0m\u001b[1;33m,\u001b[0m \u001b[0mfeatureName\u001b[0m\u001b[1;33m,\u001b[0m \u001b[0mfeatureValue\u001b[0m \u001b[1;32min\u001b[0m \u001b[0mself\u001b[0m\u001b[1;33m.\u001b[0m\u001b[0m_calculateFeatures\u001b[0m\u001b[1;33m(\u001b[0m\u001b[1;33m)\u001b[0m\u001b[1;33m:\u001b[0m\u001b[1;33m\u001b[0m\u001b[1;33m\u001b[0m\u001b[0m\n\u001b[0m\u001b[0;32m    228\u001b[0m       \u001b[1;31m# Always store the result. In case of an error, featureValue will be NaN\u001b[0m\u001b[1;33m\u001b[0m\u001b[1;33m\u001b[0m\u001b[1;33m\u001b[0m\u001b[0m\n\u001b[0;32m    229\u001b[0m       \u001b[0mself\u001b[0m\u001b[1;33m.\u001b[0m\u001b[0mfeatureValues\u001b[0m\u001b[1;33m[\u001b[0m\u001b[0mfeatureName\u001b[0m\u001b[1;33m]\u001b[0m \u001b[1;33m=\u001b[0m \u001b[0mnumpy\u001b[0m\u001b[1;33m.\u001b[0m\u001b[0msqueeze\u001b[0m\u001b[1;33m(\u001b[0m\u001b[0mfeatureValue\u001b[0m\u001b[1;33m)\u001b[0m\u001b[1;33m\u001b[0m\u001b[1;33m\u001b[0m\u001b[0m\n",
      "\u001b[1;32m~\\Anaconda3\\envs\\REV_New\\lib\\site-packages\\pyradiomics-2.2.0.post14.dev0+g3b6b37c-py3.6-win-amd64.egg\\radiomics\\base.py\u001b[0m in \u001b[0;36m_calculateFeatures\u001b[1;34m(self, voxelCoordinates)\u001b[0m\n\u001b[0;32m    232\u001b[0m     \u001b[1;31m# Initialize the calculation\u001b[0m\u001b[1;33m\u001b[0m\u001b[1;33m\u001b[0m\u001b[1;33m\u001b[0m\u001b[0m\n\u001b[0;32m    233\u001b[0m     \u001b[1;31m# This function serves to calculate the texture matrices where applicable\u001b[0m\u001b[1;33m\u001b[0m\u001b[1;33m\u001b[0m\u001b[1;33m\u001b[0m\u001b[0m\n\u001b[1;32m--> 234\u001b[1;33m     \u001b[0mself\u001b[0m\u001b[1;33m.\u001b[0m\u001b[0m_initCalculation\u001b[0m\u001b[1;33m(\u001b[0m\u001b[0mvoxelCoordinates\u001b[0m\u001b[1;33m)\u001b[0m\u001b[1;33m\u001b[0m\u001b[1;33m\u001b[0m\u001b[0m\n\u001b[0m\u001b[0;32m    235\u001b[0m \u001b[1;33m\u001b[0m\u001b[0m\n\u001b[0;32m    236\u001b[0m     \u001b[0mself\u001b[0m\u001b[1;33m.\u001b[0m\u001b[0mlogger\u001b[0m\u001b[1;33m.\u001b[0m\u001b[0mdebug\u001b[0m\u001b[1;33m(\u001b[0m\u001b[1;34m'Calculating features'\u001b[0m\u001b[1;33m)\u001b[0m\u001b[1;33m\u001b[0m\u001b[1;33m\u001b[0m\u001b[0m\n",
      "\u001b[1;32m~\\Anaconda3\\envs\\REV_New\\lib\\site-packages\\pyradiomics-2.2.0.post14.dev0+g3b6b37c-py3.6-win-amd64.egg\\radiomics\\glszm.py\u001b[0m in \u001b[0;36m_initCalculation\u001b[1;34m(self, voxelCoordinates)\u001b[0m\n\u001b[0;32m     63\u001b[0m \u001b[1;33m\u001b[0m\u001b[0m\n\u001b[0;32m     64\u001b[0m   \u001b[1;32mdef\u001b[0m \u001b[0m_initCalculation\u001b[0m\u001b[1;33m(\u001b[0m\u001b[0mself\u001b[0m\u001b[1;33m,\u001b[0m \u001b[0mvoxelCoordinates\u001b[0m\u001b[1;33m=\u001b[0m\u001b[1;32mNone\u001b[0m\u001b[1;33m)\u001b[0m\u001b[1;33m:\u001b[0m\u001b[1;33m\u001b[0m\u001b[1;33m\u001b[0m\u001b[0m\n\u001b[1;32m---> 65\u001b[1;33m     \u001b[0mself\u001b[0m\u001b[1;33m.\u001b[0m\u001b[0mP_glszm\u001b[0m \u001b[1;33m=\u001b[0m \u001b[0mself\u001b[0m\u001b[1;33m.\u001b[0m\u001b[0m_calculateMatrix\u001b[0m\u001b[1;33m(\u001b[0m\u001b[0mvoxelCoordinates\u001b[0m\u001b[1;33m)\u001b[0m\u001b[1;33m\u001b[0m\u001b[1;33m\u001b[0m\u001b[0m\n\u001b[0m\u001b[0;32m     66\u001b[0m \u001b[1;33m\u001b[0m\u001b[0m\n\u001b[0;32m     67\u001b[0m     \u001b[0mself\u001b[0m\u001b[1;33m.\u001b[0m\u001b[0m_calculateCoefficients\u001b[0m\u001b[1;33m(\u001b[0m\u001b[1;33m)\u001b[0m\u001b[1;33m\u001b[0m\u001b[1;33m\u001b[0m\u001b[0m\n",
      "\u001b[1;32m~\\Anaconda3\\envs\\REV_New\\lib\\site-packages\\pyradiomics-2.2.0.post14.dev0+g3b6b37c-py3.6-win-amd64.egg\\radiomics\\glszm.py\u001b[0m in \u001b[0;36m_calculateMatrix\u001b[1;34m(self, voxelCoordinates)\u001b[0m\n\u001b[0;32m     91\u001b[0m       \u001b[0mmatrix_args\u001b[0m \u001b[1;33m+=\u001b[0m \u001b[1;33m[\u001b[0m\u001b[0mself\u001b[0m\u001b[1;33m.\u001b[0m\u001b[0msettings\u001b[0m\u001b[1;33m.\u001b[0m\u001b[0mget\u001b[0m\u001b[1;33m(\u001b[0m\u001b[1;34m'kernelRadius'\u001b[0m\u001b[1;33m,\u001b[0m \u001b[1;36m1\u001b[0m\u001b[1;33m)\u001b[0m\u001b[1;33m,\u001b[0m \u001b[0mvoxelCoordinates\u001b[0m\u001b[1;33m]\u001b[0m\u001b[1;33m\u001b[0m\u001b[1;33m\u001b[0m\u001b[0m\n\u001b[0;32m     92\u001b[0m \u001b[1;33m\u001b[0m\u001b[0m\n\u001b[1;32m---> 93\u001b[1;33m     \u001b[0mP_glszm\u001b[0m \u001b[1;33m=\u001b[0m \u001b[0mcMatrices\u001b[0m\u001b[1;33m.\u001b[0m\u001b[0mcalculate_glszm\u001b[0m\u001b[1;33m(\u001b[0m\u001b[1;33m*\u001b[0m\u001b[0mmatrix_args\u001b[0m\u001b[1;33m)\u001b[0m  \u001b[1;31m# shape (Nvox, Ng, Ns)\u001b[0m\u001b[1;33m\u001b[0m\u001b[1;33m\u001b[0m\u001b[0m\n\u001b[0m\u001b[0;32m     94\u001b[0m \u001b[1;33m\u001b[0m\u001b[0m\n\u001b[0;32m     95\u001b[0m     \u001b[1;31m# Delete rows that specify gray levels not present in the ROI\u001b[0m\u001b[1;33m\u001b[0m\u001b[1;33m\u001b[0m\u001b[1;33m\u001b[0m\u001b[0m\n",
      "\u001b[1;31mMemoryError\u001b[0m: "
     ]
    }
   ],
   "source": [
    "%%time\n",
    "print(\"Starting the automation loop for GLSZM feature extraction\")\n",
    "\n",
    "# All the greyscale images of various porous media types are named as data#.nrrd. \n",
    "# Iterate over the names to calculate the GLSZM features\n",
    "for num_img in range(6, 7):\n",
    "    \n",
    "    # Create the variables for image and label\n",
    "    global image_1, label_1\n",
    "\n",
    "    # Path of the images used in REV analysis\n",
    "    path ='D:\\\\Ankita PhD\\\\pyradiomics\\\\data\\\\data{}.nrrd'.format(num_img)\n",
    "    \n",
    "    # Read the nrrd image using the SITK library. Nrrd images are 8-bit images with intensity values between 0 to 255\n",
    "    image_1 = sitk.ReadImage(path) \n",
    "    \n",
    "    # Set the settings paramter needed for the bin_width and label\n",
    "    # Bin_Width = 1 (as I don't want any further reduction in greyscale values and want to preserve the information)\n",
    "    # label is a nrrd image that incorporates the window size and hence, gives a ROI for the GLSZM calculation.\n",
    "    # The minimum size is set by the user and the mavimum size is the size of the image\n",
    "    settings = {}\n",
    "    settings['label'] = 255\n",
    "    settings['binWidth'] = 1\n",
    "\n",
    "    # Set-up logging for all the calculations\n",
    "    log_file = 'D:\\\\Ankita PhD\\\\pyradiomics\\\\log_messages\\\\log{}.txt'.format(num_img)\n",
    "    handler = logging.FileHandler(filename=log_file, mode='w')  # overwrites log_files from previous runs. Change mode to 'a' to append.\n",
    "    formatter = logging.Formatter(\"%(levelname)s:%(name)s: %(message)s\")  # format string for log messages\n",
    "    handler.setFormatter(formatter)\n",
    "    radiomics.logger.addHandler(handler)\n",
    "\n",
    "    # Control the amount of logging stored by setting the level of the logger. N.B. if the level is higher than the\n",
    "    # Verbositiy level, the logger level will also determine the amount of information printed to the output\n",
    "    radiomics.logger.setLevel(logging.DEBUG)\n",
    "\n",
    "    # the size of the mask (same as label) should be the same as that of the image\n",
    "    mask_x = image_1.GetWidth()\n",
    "    mask_y = image_1.GetWidth()\n",
    "    mask_z = image_1.GetWidth()\n",
    "\n",
    "    #list for all the features being extracted\n",
    "    v1 = []\n",
    "    nzz = []\n",
    "\n",
    "    print(\"Starting the domain centre calculcation for image\",str(num_img))\n",
    "    \n",
    "    # here the window_size refers to the region of mask that will be used to segment the ROI from the image. The window\n",
    "    # sizes increase with every iteration\n",
    "    u_window_size = [650, 600, 550, 500, 450, 400, 350, 300, 250, 200, 150, 100, 60, 50, 40, 30, 20, 10] #10, 20, 30, 40, 50, 60, 100, 150, 200, 250, 300, 350, 400, 450, 600, 650]\n",
    "    global window_size, total_iter, expect_iter, i_loc, j_loc, z_loc, bb, correctedMask, croppedImage, croppedMask, glcm_window\n",
    "    \n",
    "    for window_size in u_window_size:  \n",
    "\n",
    "        i_loc = int((mask_x - window_size)/2)\n",
    "        j_loc = int((mask_y - window_size)/2)\n",
    "        k_loc = int((mask_z - window_size)/2)\n",
    "\n",
    "        # Generate the mask\n",
    "        full_mask = np.zeros((mask_x, mask_y, mask_z), dtype = np.uint8)\n",
    "        full_mask[i_loc:i_loc+window_size,j_loc:j_loc+window_size,k_loc:k_loc+window_size] = 255\n",
    "        #print(\"Window Location\", str(i_loc), str(i_loc+window_size), str(j_loc), str(j_loc+window_size), str(k_loc), str(k_loc+window_size))\n",
    "        label_1 = sitk.GetImageFromArray(full_mask, isVector=False)\n",
    "        label_1.CopyInformation(image_1)\n",
    "        del full_mask\n",
    "\n",
    "        bb, correctedMask = imageoperations.checkMask(image_1, label_1, label=255)\n",
    "        if correctedMask is not None:\n",
    "            label_1 = correctedMask\n",
    "        croppedImage, croppedMask = imageoperations.cropToTumorMask(image_1, label_1, bb)\n",
    "        del correctedMask, label_1\n",
    "\n",
    "        print(\"Cropped Mask and Image created for domain centre size =\",str(window_size))\n",
    "        #calculate secondorder stats\n",
    "        glszmFeatures = glszm.RadiomicsGLSZM(croppedImage, croppedMask, **settings)\n",
    "        glszmFeatures.enableAllFeatures()\n",
    "        print('Enabled GLSZM features...',)\n",
    "        result = glszmFeatures.execute()\n",
    "\n",
    "        print('Calculated GLSZM features: ')\n",
    "        Nzzz = glszmFeatures.coefficients['Nz']\n",
    "        nzz.append(Nzzz)\n",
    "        \n",
    "        for (key, val) in six.iteritems(result):\n",
    "            if key == 'LargeAreaLowGrayLevelEmphasis':\n",
    "                v1.append(val)\n",
    "\n",
    "        print(\"Completed calculations for domain centre size =\", str(window_size))\n",
    "    \n",
    "    # Create a data-frame to store all the GLSZM features for the image    \n",
    "    my_df = pd.DataFrame(list(zip(u_window_size, v1, nzz)))\n",
    "    my_df = my_df.rename(index = str, columns={0: \"Window Sizes\", 1: \"LargeAreaLowGrayLevelEmphasis\", 2: \"Sum of Zones\"})    \n",
    "    \n",
    "    name_csv = 'glszm_dc_lalge_data{}.csv'.format(num_img)\n",
    "    my_df.to_csv(name_csv, index=False, header=True)\n",
    "    \n",
    "    print(\"Stored all the GLSZM features for image\", str(num_img))\n",
    "    \n",
    "    #free the memory and delete all the variables\n",
    "    del image_1\n",
    "    del my_df\n",
    "    del glszmFeatures\n",
    "    del result"
   ]
  },
  {
   "cell_type": "code",
   "execution_count": 9,
   "metadata": {},
   "outputs": [
    {
     "data": {
      "text/plain": [
       "array([307.])"
      ]
     },
     "execution_count": 9,
     "metadata": {},
     "output_type": "execute_result"
    }
   ],
   "source": [
    "Nzzz"
   ]
  },
  {
   "cell_type": "code",
   "execution_count": 10,
   "metadata": {},
   "outputs": [
    {
     "data": {
      "text/plain": [
       "array([[170.,  57.,  29.,  13.,   7.,   6.,   3.,   7.,   2.,   2.,   1.,\n",
       "          1.,   1.,   1.,   2.,   1.,   1.,   1.,   1.,   1.]])"
      ]
     },
     "execution_count": 10,
     "metadata": {},
     "output_type": "execute_result"
    }
   ],
   "source": [
    "pss"
   ]
  },
  {
   "cell_type": "code",
   "execution_count": 11,
   "metadata": {},
   "outputs": [
    {
     "data": {
      "text/plain": [
       "array([  1.,   2.,   3.,   4.,   5.,   6.,   7.,   8.,   9.,  10.,  11.,\n",
       "        12.,  16.,  22.,  23.,  24.,  41.,  49.,  61., 109.])"
      ]
     },
     "execution_count": 11,
     "metadata": {},
     "output_type": "execute_result"
    }
   ],
   "source": [
    "jvv"
   ]
  },
  {
   "cell_type": "code",
   "execution_count": null,
   "metadata": {},
   "outputs": [],
   "source": [
    "\n",
    "%%time\n",
    "print(\"Starting the automation loop for GLSZM feature extraction\")\n",
    "\n",
    "# All the greyscale images of various porous media types are named as data#.nrrd. \n",
    "# Iterate over the names to calculate the GLSZM features\n",
    "for num_img in range(6,7):\n",
    "    \n",
    "    # Create the variables for image and label\n",
    "    global image_1, label_1\n",
    "\n",
    "    # Path of the images used in REV analysis\n",
    "    path ='D:\\\\Ankita PhD\\\\pyradiomics\\\\data\\\\data{}.nrrd'.format(num_img)\n",
    "    \n",
    "    # Read the nrrd image using the SITK library. Nrrd images are 8-bit images with intensity values between 0 to 255\n",
    "    image_1 = sitk.ReadImage(path) \n",
    "    \n",
    "    # Set the settings paramter needed for the bin_width and label\n",
    "    # Bin_Width = 1 (as I don't want any further reduction in greyscale values and want to preserve the information)\n",
    "    # label is a nrrd image that incorporates the window size and hence, gives a ROI for the GLSZM calculation.\n",
    "    # The minimum size is set by the user and the mavimum size is the size of the image\n",
    "    settings = {}\n",
    "    settings['label'] = 255\n",
    "    settings['binWidth'] = 1\n",
    "\n",
    "    # Set-up logging for all the calculations\n",
    "    log_file = 'D:\\\\Ankita PhD\\\\pyradiomics\\\\log_messages\\\\log{}.txt'.format(num_img)\n",
    "    handler = logging.FileHandler(filename=log_file, mode='w')  # overwrites log_files from previous runs. Change mode to 'a' to append.\n",
    "    formatter = logging.Formatter(\"%(levelname)s:%(name)s: %(message)s\")  # format string for log messages\n",
    "    handler.setFormatter(formatter)\n",
    "    radiomics.logger.addHandler(handler)\n",
    "\n",
    "    # Control the amount of logging stored by setting the level of the logger. N.B. if the level is higher than the\n",
    "    # Verbositiy level, the logger level will also determine the amount of information printed to the output\n",
    "    radiomics.logger.setLevel(logging.DEBUG)\n",
    "\n",
    "    # the size of the mask (same as label) should be the same as that of the image\n",
    "    mask_x = image_1.GetWidth()\n",
    "    mask_y = image_1.GetWidth()\n",
    "    mask_z = image_1.GetWidth()\n",
    "\n",
    "    #list for all the features being extracted\n",
    "    v1 = []\n",
    "    v2 = []\n",
    "    v3 = []\n",
    "    v4 = []\n",
    "    v5 = []\n",
    "    v6 = []\n",
    "    v7 = []\n",
    "    v8 = []\n",
    "    v9 = []\n",
    "    v10 = []\n",
    "    v11 = []\n",
    "    v12 = []\n",
    "    v13 = []\n",
    "    v14 = []\n",
    "    v15 = []\n",
    "    v16 = []\n",
    "\n",
    "    print(\"Starting the domain centre calculcation for image\",str(num_img))\n",
    "    \n",
    "    # here the window_size refers to the region of mask that will be used to segment the ROI from the image. The window\n",
    "    # sizes increase with every iteration\n",
    "    u_window_size = [10, 20, 30, 40, 50, 60, 100, 150, 200, 250, 300, 350, 400, 450, 500, 550, 600, 650, 700]\n",
    "    global window_size, total_iter, expect_iter, i_loc, j_loc, z_loc, bb, correctedMask, croppedImage, croppedMask, glcm_window\n",
    "    \n",
    "    for window_size in u_window_size:  \n",
    "\n",
    "        i_loc = int((mask_x - window_size)/2)\n",
    "        j_loc = int((mask_y - window_size)/2)\n",
    "        k_loc = int((mask_z - window_size)/2)\n",
    "\n",
    "        # Generate the mask\n",
    "        full_mask = np.zeros((mask_x, mask_y, mask_z), dtype = np.uint8)\n",
    "        full_mask[i_loc:i_loc+window_size,j_loc:j_loc+window_size,k_loc:k_loc+window_size] = 255\n",
    "        #print(\"Window Location\", str(i_loc), str(i_loc+window_size), str(j_loc), str(j_loc+window_size), str(k_loc), str(k_loc+window_size))\n",
    "        label_1 = sitk.GetImageFromArray(full_mask, isVector=False)\n",
    "        label_1.CopyInformation(image_1)\n",
    "        del full_mask\n",
    "\n",
    "        bb, correctedMask = imageoperations.checkMask(image_1, label_1, label=255)\n",
    "        if correctedMask is not None:\n",
    "            label_1 = correctedMask\n",
    "        croppedImage, croppedMask = imageoperations.cropToTumorMask(image_1, label_1, bb)\n",
    "        del correctedMask, label_1\n",
    "\n",
    "        print(\"Cropped Mask and Image created for domain centre size =\",str(window_size))\n",
    "        #calculate secondorder stats\n",
    "        glszmFeatures = glszm.RadiomicsGLSZM(croppedImage, croppedMask, **settings)\n",
    "        glszmFeatures.enableAllFeatures()\n",
    "        print('Enabled GLSZM features...',)\n",
    "        result = glszmFeatures.execute()\n",
    "\n",
    "        print('Calculated GLSZM features: ')\n",
    "        for (key, val) in six.iteritems(result):\n",
    "            if key =='GrayLevelNonUniformity':\n",
    "                v1.append(val)\n",
    "            if key =='GrayLevelNonUniformityNormalized':\n",
    "                v2.append(val)\n",
    "            if key =='GrayLevelVariance':\n",
    "                v3.append(val)\n",
    "            if key =='HighGrayLevelZoneEmphasis':\n",
    "                v4.append(val)\n",
    "            if key == 'LargeAreaEmphasis':\n",
    "                v5.append(val)\n",
    "            if key == 'LargeAreaHighGrayLevelEmphasis':\n",
    "                v6.append(val)\n",
    "            if key == 'LargeAreaLowGrayLevelEmphasis':\n",
    "                v7.append(val)\n",
    "            if key == 'LowGrayLevelZoneEmphasis':\n",
    "                v8.append(val) \n",
    "            if key == 'SizeZoneNonUniformity':\n",
    "                v9.append(val)\n",
    "            if key == 'SizeZoneNonUniformityNormalized':\n",
    "                v10.append(val)\n",
    "            if key == 'SmallAreaEmphasis':\n",
    "                v11.append(val)\n",
    "            if key == 'SmallAreaHighGrayLevelEmphasis':\n",
    "                v12.append(val)\n",
    "            if key == 'SmallAreaLowGrayLevelEmphasis':\n",
    "                v13.append(val)\n",
    "            if key == 'ZoneEntropy':\n",
    "                v14.append(val)\n",
    "            if key == 'ZonePercentage':\n",
    "                v15.append(val)\n",
    "            if key == 'ZoneVariance':\n",
    "                v16.append(val)\n",
    "\n",
    "        print(\"Completed calculations for domain centre size =\", str(window_size))\n",
    "    \n",
    "    # Create a data-frame to store all the GLSZM features for the image    \n",
    "    my_df = pd.DataFrame(list(zip(u_window_size, v1, v2, v3, v4, v5, v6, v7, v8, v9, v10, v11, v12, v13, v14, v15, v16)))\n",
    "    my_df = my_df.rename(index = str, columns={0: \"Window Sizes\", 1: \"GrayLevelNonUniformity\", 2: \"GrayLevelNonUniformityNormalized\", \\\n",
    "                                   3: \"GrayLevelVariance\", 4: \"HighGrayLevelZoneEmphasis\", 5: \"LargeAreaEmphasis\", \\\n",
    "                                   6: \"LargeAreaHighGrayLevelEmphasis\", 7: \"LargeAreaLowGrayLevelEmphasis\", 8: \"LowGrayLevelZoneEmphasis\", \\\n",
    "                                   9: \"SizeZoneNonUniformity\", 10: \"SizeZoneNonUniformityNormalized\", 11: \"SmallAreaEmphasis\", \\\n",
    "                                   12: \"SmallAreaHighGrayLevelEmphasis\", 13: \"SmallAreaLowGrayLevelEmphasis\", 14: \"ZoneEntropy\", \\\n",
    "                                   15: \"ZonePercentage\", 16: \"ZoneVariance\"})    \n",
    "    \n",
    "    name_csv = 'glszm_dc_data{}.csv'.format(num_img)\n",
    "    my_df.to_csv(name_csv, index=False, header=True)\n",
    "    \n",
    "    print(\"Stored all the GLSZM features for image\", str(num_img))\n",
    "    \n",
    "    #free the memory and delete all the variables\n",
    "    del image_1\n",
    "    del my_df\n",
    "    del glszmFeatures\n",
    "    del result"
   ]
  },
  {
   "cell_type": "code",
   "execution_count": null,
   "metadata": {},
   "outputs": [],
   "source": [
    "  # Create a data-frame to store all the GLSZM features for the image    \n",
    "    my_df = pd.DataFrame(list(zip(u_window_size, v1, v2, v3, v4, v5, v6, v7, v8, v9, v10, v11, v12, v13, v14, v15, v16)))\n",
    "    my_df = my_df.rename(index = str, columns={0: \"Window Sizes\", 1: \"GrayLevelNonUniformity\", 2: \"GrayLevelNonUniformityNormalized\", \\\n",
    "                                   3: \"GrayLevelVariance\", 4: \"HighGrayLevelZoneEmphasis\", 5: \"LargeAreaEmphasis\", \\\n",
    "                                   6: \"LargeAreaHighGrayLevelEmphasis\", 7: \"LargeAreaLowGrayLevelEmphasis\", 8: \"LowGrayLevelZoneEmphasis\", \\\n",
    "                                   9: \"SizeZoneNonUniformity\", 10: \"SizeZoneNonUniformityNormalized\", 11: \"SmallAreaEmphasis\", \\\n",
    "                                   12: \"SmallAreaHighGrayLevelEmphasis\", 13: \"SmallAreaLowGrayLevelEmphasis\", 14: \"ZoneEntropy\", \\\n",
    "                                   15: \"ZonePercentage\", 16: \"ZoneVariance\"})    \n",
    "    \n",
    "    name_csv = 'glszm_dc_data{}.csv'.format(num_img)\n",
    "    my_df.to_csv(name_csv, index=False, header=True)\n",
    "    \n",
    "    print(\"Stored all the GLSZM features for image\", str(num_img))"
   ]
  },
  {
   "cell_type": "code",
   "execution_count": null,
   "metadata": {},
   "outputs": [],
   "source": []
  }
 ],
 "metadata": {
  "kernelspec": {
   "display_name": "REV_New",
   "language": "python",
   "name": "rev_new"
  },
  "language_info": {
   "codemirror_mode": {
    "name": "ipython",
    "version": 3
   },
   "file_extension": ".py",
   "mimetype": "text/x-python",
   "name": "python",
   "nbconvert_exporter": "python",
   "pygments_lexer": "ipython3",
   "version": "3.6.8"
  }
 },
 "nbformat": 4,
 "nbformat_minor": 2
}
