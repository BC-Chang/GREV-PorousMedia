{
 "cells": [
  {
   "cell_type": "markdown",
   "metadata": {},
   "source": [
    "#### Import all libraries"
   ]
  },
  {
   "cell_type": "code",
   "execution_count": 1,
   "metadata": {},
   "outputs": [],
   "source": [
    "from __future__ import print_function\n",
    "import os\n",
    "import collections\n",
    "import SimpleITK as sitk\n",
    "import numpy as np\n",
    "import six\n",
    "import radiomics\n",
    "from radiomics import firstorder, glcm, imageoperations, shape, glrlm, glszm, getTestCase\n",
    "import sys\n",
    "import logging as logger\n",
    "import time\n",
    "import json\n",
    "import os\n",
    "import logging.config\n",
    "import pandas as pd\n",
    "import gc\n",
    "import math"
   ]
  },
  {
   "cell_type": "markdown",
   "metadata": {},
   "source": [
    "#### Create a pandas dataframe to store all the minimum and maximum values for the windows"
   ]
  },
  {
   "cell_type": "code",
   "execution_count": 11,
   "metadata": {},
   "outputs": [
    {
     "data": {
      "text/html": [
       "<div>\n",
       "<style scoped>\n",
       "    .dataframe tbody tr th:only-of-type {\n",
       "        vertical-align: middle;\n",
       "    }\n",
       "\n",
       "    .dataframe tbody tr th {\n",
       "        vertical-align: top;\n",
       "    }\n",
       "\n",
       "    .dataframe thead th {\n",
       "        text-align: right;\n",
       "    }\n",
       "</style>\n",
       "<table border=\"1\" class=\"dataframe\">\n",
       "  <thead>\n",
       "    <tr style=\"text-align: right;\">\n",
       "      <th></th>\n",
       "      <th>Window Sizes</th>\n",
       "      <th>GrayLevelNonUniformity</th>\n",
       "      <th>GrayLevelNonUniformityNormalized</th>\n",
       "      <th>GrayLevelVariance</th>\n",
       "      <th>HighGrayLevelZoneEmphasis</th>\n",
       "      <th>LargeAreaEmphasis</th>\n",
       "      <th>LargeAreaHighGrayLevelEmphasis</th>\n",
       "      <th>LargeAreaLowGrayLevelEmphasis</th>\n",
       "      <th>LowGrayLevelZoneEmphasis</th>\n",
       "      <th>SizeZoneNonUniformity</th>\n",
       "      <th>SizeZoneNonUniformityNormalized</th>\n",
       "      <th>SmallAreaEmphasis</th>\n",
       "      <th>SmallAreaHighGrayLevelEmphasis</th>\n",
       "      <th>SmallAreaLowGrayLevelEmphasis</th>\n",
       "      <th>ZoneEntropy</th>\n",
       "      <th>ZonePercentage</th>\n",
       "      <th>ZoneVariance</th>\n",
       "    </tr>\n",
       "  </thead>\n",
       "  <tbody>\n",
       "  </tbody>\n",
       "</table>\n",
       "</div>"
      ],
      "text/plain": [
       "Empty DataFrame\n",
       "Columns: [Window Sizes, GrayLevelNonUniformity, GrayLevelNonUniformityNormalized, GrayLevelVariance, HighGrayLevelZoneEmphasis, LargeAreaEmphasis, LargeAreaHighGrayLevelEmphasis, LargeAreaLowGrayLevelEmphasis, LowGrayLevelZoneEmphasis, SizeZoneNonUniformity, SizeZoneNonUniformityNormalized, SmallAreaEmphasis, SmallAreaHighGrayLevelEmphasis, SmallAreaLowGrayLevelEmphasis, ZoneEntropy, ZonePercentage, ZoneVariance]\n",
       "Index: []"
      ]
     },
     "execution_count": 11,
     "metadata": {},
     "output_type": "execute_result"
    }
   ],
   "source": [
    "df_w = pd.DataFrame(columns = [\"Window Sizes\", \"GrayLevelNonUniformity\", \"GrayLevelNonUniformityNormalized\", \\\n",
    "                                \"GrayLevelVariance\", \"HighGrayLevelZoneEmphasis\", \"LargeAreaEmphasis\", \\\n",
    "                                \"LargeAreaHighGrayLevelEmphasis\", \"LargeAreaLowGrayLevelEmphasis\",\"LowGrayLevelZoneEmphasis\", \\\n",
    "                                \"SizeZoneNonUniformity\", \"SizeZoneNonUniformityNormalized\", \"SmallAreaEmphasis\", \\\n",
    "                                   \"SmallAreaHighGrayLevelEmphasis\", \"SmallAreaLowGrayLevelEmphasis\", \"ZoneEntropy\", \\\n",
    "                                   \"ZonePercentage\", \"ZoneVariance\"])\n",
    "df_w"
   ]
  },
  {
   "cell_type": "code",
   "execution_count": 13,
   "metadata": {},
   "outputs": [],
   "source": [
    "window_size = [10, 20, 30, 40, 50, 100, 150, 200, 250, 300, 350, 400]\n",
    "ws_col = [10, 10, 20, 20, 30, 30, 40, 40, 50, 50, 100, 100, 150, 150, 200, 250, 300, 350, 400, 400]"
   ]
  },
  {
   "cell_type": "code",
   "execution_count": null,
   "metadata": {},
   "outputs": [],
   "source": [
    "df_w.append({\n",
    "    \n",
    "})"
   ]
  },
  {
   "cell_type": "markdown",
   "metadata": {},
   "source": [
    "#### Import all the csv files for anlaysis - Window!!"
   ]
  },
  {
   "cell_type": "code",
   "execution_count": null,
   "metadata": {},
   "outputs": [],
   "source": [
    "print(\"Make sure to change the number of the image being used!!\")\n",
    "img = 1\n",
    "path_list = []\n",
    "for num_w in range(1,13):\n",
    "\n",
    "    # Path of the csv files used in sensitivity analysis\n",
    "    print(\"Make sure to change the number of the image being used!!\")\n",
    "    path ='D:\\\\Ankita PhD\\\\pyradiomics\\\\notebooks\\\\glszm_img_{}_w{}.csv'.format(img, num_w)\n",
    "    \n",
    "    #import the csv files as pandas data frame\n",
    "    df = pd.read_csv(path)\n",
    "    "
   ]
  },
  {
   "cell_type": "code",
   "execution_count": null,
   "metadata": {},
   "outputs": [],
   "source": [
    "num_img = 1\n",
    "u_window_size = 1\n",
    "name_csv = 'glszm_img_{}_w{}.csv'.format(num_img, u_window_size)"
   ]
  },
  {
   "cell_type": "code",
   "execution_count": null,
   "metadata": {},
   "outputs": [],
   "source": [
    "name_csv\n"
   ]
  },
  {
   "cell_type": "markdown",
   "metadata": {},
   "source": [
    "#### Import the csv file for analysis - DC!!"
   ]
  },
  {
   "cell_type": "code",
   "execution_count": null,
   "metadata": {},
   "outputs": [],
   "source": []
  },
  {
   "cell_type": "code",
   "execution_count": null,
   "metadata": {},
   "outputs": [],
   "source": []
  },
  {
   "cell_type": "markdown",
   "metadata": {},
   "source": [
    "#### Use Bokeh to visualize the data"
   ]
  }
 ],
 "metadata": {
  "kernelspec": {
   "display_name": "REV_New",
   "language": "python",
   "name": "rev_new"
  },
  "language_info": {
   "codemirror_mode": {
    "name": "ipython",
    "version": 3
   },
   "file_extension": ".py",
   "mimetype": "text/x-python",
   "name": "python",
   "nbconvert_exporter": "python",
   "pygments_lexer": "ipython3",
   "version": "3.6.8"
  }
 },
 "nbformat": 4,
 "nbformat_minor": 2
}
