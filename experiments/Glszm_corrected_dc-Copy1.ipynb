{
 "cells": [
  {
   "cell_type": "markdown",
   "metadata": {},
   "source": [
    "#### Import all libraries"
   ]
  },
  {
   "cell_type": "code",
   "execution_count": 1,
   "metadata": {},
   "outputs": [],
   "source": [
    "from __future__ import print_function\n",
    "import os\n",
    "import collections\n",
    "import SimpleITK as sitk\n",
    "import numpy as np\n",
    "import six\n",
    "import radiomics\n",
    "from radiomics import firstorder, glcm, imageoperations, shape, glrlm, glszm, getTestCase\n",
    "import sys\n",
    "import logging as logger\n",
    "import time\n",
    "import json\n",
    "import os\n",
    "import logging.config\n",
    "import pandas as pd\n",
    "import gc\n",
    "import math"
   ]
  },
  {
   "cell_type": "code",
   "execution_count": 2,
   "metadata": {},
   "outputs": [
    {
     "name": "stdout",
     "output_type": "stream",
     "text": [
      "Before starting the entire loop. First Check what is the maximum size of the rock you can run the code for...\n"
     ]
    }
   ],
   "source": [
    "print(\"Before starting the entire loop. First Check what is the maximum size of the rock you can run the code for...\")"
   ]
  },
  {
   "cell_type": "markdown",
   "metadata": {},
   "source": [
    "#### Automate the GLSZM feature extraction process"
   ]
  },
  {
   "cell_type": "code",
   "execution_count": 45,
   "metadata": {},
   "outputs": [
    {
     "name": "stdout",
     "output_type": "stream",
     "text": [
      "Starting the automation loop for GLSZM feature extraction\n",
      "Starting the domain centre calculcation for image 1\n",
      "Cropped Mask and Image created for domain centre size = 2\n",
      "Calculated GLSZM.....\n",
      "1\n",
      "2\n",
      "The shape of the old glszm is (1, 7, 2) . The shape of the new glszm is (1, 7, 2)\n",
      "GLSZM processing complete ...\n",
      "Initiating GLSZM feature calculation...... \n",
      "Completed calculations for domain centre size = 2\n",
      "Cropped Mask and Image created for domain centre size = 3\n",
      "Calculated GLSZM.....\n",
      "1\n",
      "2\n",
      "The shape of the old glszm is (1, 12, 4) . The shape of the new glszm is (1, 12, 4)\n",
      "GLSZM processing complete ...\n",
      "Initiating GLSZM feature calculation...... \n",
      "Completed calculations for domain centre size = 3\n",
      "Cropped Mask and Image created for domain centre size = 4\n",
      "Calculated GLSZM.....\n",
      "1\n",
      "2\n",
      "The shape of the old glszm is (1, 16, 5) . The shape of the new glszm is (1, 16, 5)\n",
      "GLSZM processing complete ...\n",
      "Initiating GLSZM feature calculation...... \n",
      "Completed calculations for domain centre size = 4\n",
      "Cropped Mask and Image created for domain centre size = 5\n",
      "Calculated GLSZM.....\n",
      "1\n",
      "2\n",
      "The shape of the old glszm is (1, 18, 7) . The shape of the new glszm is (1, 18, 7)\n",
      "GLSZM processing complete ...\n",
      "Initiating GLSZM feature calculation...... \n",
      "Completed calculations for domain centre size = 5\n",
      "Cropped Mask and Image created for domain centre size = 6\n",
      "Calculated GLSZM.....\n",
      "1\n",
      "2\n",
      "The shape of the old glszm is (1, 24, 9) . The shape of the new glszm is (1, 24, 9)\n",
      "GLSZM processing complete ...\n",
      "Initiating GLSZM feature calculation...... \n",
      "Completed calculations for domain centre size = 6\n",
      "Cropped Mask and Image created for domain centre size = 7\n",
      "Calculated GLSZM.....\n",
      "1\n",
      "2\n",
      "The shape of the old glszm is (1, 32, 10) . The shape of the new glszm is (1, 32, 10)\n",
      "GLSZM processing complete ...\n",
      "Initiating GLSZM feature calculation...... \n",
      "Completed calculations for domain centre size = 7\n",
      "Cropped Mask and Image created for domain centre size = 8\n",
      "Calculated GLSZM.....\n",
      "1\n",
      "2\n",
      "The shape of the old glszm is (1, 50, 12) . The shape of the new glszm is (1, 50, 12)\n",
      "GLSZM processing complete ...\n",
      "Initiating GLSZM feature calculation...... \n",
      "Completed calculations for domain centre size = 8\n",
      "Cropped Mask and Image created for domain centre size = 9\n",
      "Calculated GLSZM.....\n",
      "1\n",
      "2\n",
      "The shape of the old glszm is (1, 71, 13) . The shape of the new glszm is (1, 71, 13)\n",
      "GLSZM processing complete ...\n",
      "Initiating GLSZM feature calculation...... \n",
      "Completed calculations for domain centre size = 9\n",
      "Cropped Mask and Image created for domain centre size = 10\n",
      "Calculated GLSZM.....\n",
      "1\n",
      "2\n",
      "The shape of the old glszm is (1, 100, 13) . The shape of the new glszm is (1, 100, 13)\n",
      "GLSZM processing complete ...\n",
      "Initiating GLSZM feature calculation...... \n",
      "Completed calculations for domain centre size = 10\n",
      "Cropped Mask and Image created for domain centre size = 20\n",
      "Calculated GLSZM.....\n",
      "1\n",
      "2\n",
      "The shape of the old glszm is (1, 184, 27) . The shape of the new glszm is (1, 184, 27)\n",
      "GLSZM processing complete ...\n",
      "Initiating GLSZM feature calculation...... \n",
      "Completed calculations for domain centre size = 20\n",
      "Cropped Mask and Image created for domain centre size = 30\n",
      "Calculated GLSZM.....\n",
      "1\n",
      "2\n",
      "The shape of the old glszm is (1, 198, 35) . The shape of the new glszm is (1, 198, 35)\n",
      "GLSZM processing complete ...\n",
      "Initiating GLSZM feature calculation...... \n",
      "Completed calculations for domain centre size = 30\n",
      "Cropped Mask and Image created for domain centre size = 40\n",
      "Calculated GLSZM.....\n",
      "1\n",
      "2\n",
      "The shape of the old glszm is (1, 204, 46) . The shape of the new glszm is (1, 204, 46)\n",
      "GLSZM processing complete ...\n",
      "Initiating GLSZM feature calculation...... \n",
      "Completed calculations for domain centre size = 40\n",
      "Cropped Mask and Image created for domain centre size = 50\n",
      "Calculated GLSZM.....\n",
      "1\n",
      "2\n",
      "The shape of the old glszm is (1, 205, 55) . The shape of the new glszm is (1, 205, 55)\n",
      "GLSZM processing complete ...\n",
      "Initiating GLSZM feature calculation...... \n",
      "Completed calculations for domain centre size = 50\n",
      "Cropped Mask and Image created for domain centre size = 60\n",
      "Calculated GLSZM.....\n",
      "1\n",
      "2\n",
      "The shape of the old glszm is (1, 206, 58) . The shape of the new glszm is (1, 206, 58)\n",
      "GLSZM processing complete ...\n",
      "Initiating GLSZM feature calculation...... \n",
      "Completed calculations for domain centre size = 60\n",
      "Cropped Mask and Image created for domain centre size = 90\n",
      "Calculated GLSZM.....\n",
      "1\n",
      "2\n",
      "The shape of the old glszm is (1, 239, 78) . The shape of the new glszm is (1, 239, 78)\n",
      "GLSZM processing complete ...\n",
      "Initiating GLSZM feature calculation...... \n",
      "Completed calculations for domain centre size = 90\n",
      "Cropped Mask and Image created for domain centre size = 100\n",
      "Calculated GLSZM.....\n",
      "1\n",
      "2\n",
      "The shape of the old glszm is (1, 239, 92) . The shape of the new glszm is (1, 239, 92)\n",
      "GLSZM processing complete ...\n",
      "Initiating GLSZM feature calculation...... \n",
      "Completed calculations for domain centre size = 100\n",
      "Cropped Mask and Image created for domain centre size = 120\n",
      "Calculated GLSZM.....\n",
      "1\n",
      "2\n",
      "The shape of the old glszm is (1, 242, 108) . The shape of the new glszm is (1, 242, 108)\n",
      "GLSZM processing complete ...\n",
      "Initiating GLSZM feature calculation...... \n",
      "Completed calculations for domain centre size = 120\n",
      "Cropped Mask and Image created for domain centre size = 150\n",
      "Calculated GLSZM.....\n",
      "1\n",
      "2\n",
      "The shape of the old glszm is (1, 249, 130) . The shape of the new glszm is (1, 249, 130)\n",
      "GLSZM processing complete ...\n",
      "Initiating GLSZM feature calculation...... \n",
      "Completed calculations for domain centre size = 150\n",
      "Cropped Mask and Image created for domain centre size = 180\n",
      "Calculated GLSZM.....\n",
      "1\n",
      "2\n",
      "The shape of the old glszm is (1, 250, 142) . The shape of the new glszm is (1, 250, 142)\n",
      "GLSZM processing complete ...\n",
      "Initiating GLSZM feature calculation...... \n",
      "Completed calculations for domain centre size = 180\n",
      "Cropped Mask and Image created for domain centre size = 200\n",
      "Calculated GLSZM.....\n",
      "1\n",
      "2\n",
      "The shape of the old glszm is (1, 253, 157) . The shape of the new glszm is (1, 253, 157)\n",
      "GLSZM processing complete ...\n",
      "Initiating GLSZM feature calculation...... \n",
      "Completed calculations for domain centre size = 200\n",
      "Stored all the GLSZM features for image 1 in a csv file\n",
      "Wall time: 11 s\n"
     ]
    }
   ],
   "source": [
    "%%time\n",
    "print(\"Starting the automation loop for GLSZM feature extraction\")\n",
    "\n",
    "# All the greyscale images of various porous media types are named as data#.nrrd. \n",
    "# Iterate over the names to calculate the GLSZM features\n",
    "for num_img in range(1, 2):\n",
    "    \n",
    "    # Create the variables for image and label\n",
    "    global image_1, label_1\n",
    "\n",
    "    # Path of the images used in REV analysis\n",
    "    path ='D:\\\\Ankita PhD\\\\pyradiomics\\\\data\\\\data{}.nrrd'.format(num_img)\n",
    "    \n",
    "    # Read the nrrd image using the SITK library. Nrrd images are 8-bit images with intensity values between 0 to 255\n",
    "    image_1 = sitk.ReadImage(path) \n",
    "    \n",
    "    # Set the settings paramter needed for the bin_width and label\n",
    "    # Bin_Width = 1 (as I don't want any further reduction in greyscale values and want to preserve the information)\n",
    "    # label is a nrrd image that incorporates the window size and hence, gives a ROI for the GLSZM calculation.\n",
    "    # The minimum size is set by the user and the mavimum size is the size of the image\n",
    "    settings = {}\n",
    "    settings['label'] = 255\n",
    "    settings['binWidth'] = 1\n",
    "\n",
    "    # Set-up logging for all the calculations\n",
    "    log_file = 'D:\\\\Ankita PhD\\\\pyradiomics\\\\log_messages\\\\log{}.txt'.format(num_img)\n",
    "    handler = logging.FileHandler(filename=log_file, mode='w')  # overwrites log_files from previous runs. Change mode to 'a' to append.\n",
    "    formatter = logging.Formatter(\"%(levelname)s:%(name)s: %(message)s\")  # format string for log messages\n",
    "    handler.setFormatter(formatter)\n",
    "    radiomics.logger.addHandler(handler)\n",
    "\n",
    "    # Control the amount of logging stored by setting the level of the logger. N.B. if the level is higher than the\n",
    "    # Verbositiy level, the logger level will also determine the amount of information printed to the output\n",
    "    radiomics.logger.setLevel(logging.DEBUG)\n",
    "\n",
    "    # the size of the mask (same as label) should be the same as that of the image\n",
    "    mask_x = image_1.GetWidth()\n",
    "    mask_y = image_1.GetWidth()\n",
    "    mask_z = image_1.GetWidth()\n",
    "\n",
    "    #list for all the features being extracted\n",
    "    v1 = []\n",
    "    v2 = []\n",
    "    v3 = []\n",
    "    v4 = []\n",
    "    v5 = []\n",
    "    v6 = []\n",
    "    v7 = []\n",
    "    v8 = []\n",
    "    v9 = []\n",
    "    v10 = []\n",
    "    v11 = []\n",
    "    v12 = []\n",
    "    v13 = []\n",
    "    v14 = []\n",
    "    v15 = []\n",
    "    v16 = []\n",
    "    v1_norm = []\n",
    "    v3_norm = []\n",
    "    v4_norm = []\n",
    "    v5_norm = []\n",
    "    v6_norm = []\n",
    "    v7_norm = []\n",
    "    v9_norm = []\n",
    "    v12_norm = []\n",
    "    v16_norm = []\n",
    "\n",
    "    print(\"Starting the domain centre calculcation for image\",str(num_img))\n",
    "    \n",
    "    # here the window_size refers to the region of mask that will be used to segment the ROI from the image. The window\n",
    "    # sizes increase with every iteration\n",
    "    u_window_size = [2, 3, 4, 5, 6, 7, 8 , 9, 10, 20, 30, 40, 50, 60, 90, 100, 120, 150, 180, 200]#, 250, 275, 300, 350, 400, 450, 500, 550, 600, 650, 700, 750, 800] #200, 150, 100, 60, 50, 40, 30, 20, 10]# 650, 600, 550, 500, 450, 400, 350, 300, 250, 200, 150, 100, 60, 50, 40, 30, 20, 10] #10, 20, 30, 40, 50, 60, 100, 150, 200, 250, 300, 350, 400, 450, 600, 650]\n",
    "    global window_size, total_iter, expect_iter, i_loc, j_loc, z_loc, bb, correctedMask, croppedImage, croppedMask, glcm_window\n",
    "    \n",
    "    for window_size in u_window_size:  \n",
    "\n",
    "        i_loc = int((mask_x - window_size)/2)\n",
    "        j_loc = int((mask_y - window_size)/2)\n",
    "        k_loc = int((mask_z - window_size)/2)\n",
    "\n",
    "        # Generate the mask\n",
    "        full_mask = np.zeros((mask_x, mask_y, mask_z), dtype = np.uint8)\n",
    "        full_mask[i_loc:i_loc+window_size,j_loc:j_loc+window_size,k_loc:k_loc+window_size] = 255\n",
    "        #print(\"Window Location\", str(i_loc), str(i_loc+window_size), str(j_loc), str(j_loc+window_size), str(k_loc), str(k_loc+window_size))\n",
    "        label_1 = sitk.GetImageFromArray(full_mask, isVector=False)\n",
    "        label_1.CopyInformation(image_1)\n",
    "        del full_mask\n",
    "\n",
    "        bb, correctedMask = imageoperations.checkMask(image_1, label_1, label=255)\n",
    "        if correctedMask is not None:\n",
    "            label_1 = correctedMask\n",
    "        croppedImage, croppedMask = imageoperations.cropToTumorMask(image_1, label_1, bb)\n",
    "        del correctedMask, label_1\n",
    "\n",
    "        print(\"Cropped Mask and Image created for domain centre size =\",str(window_size))\n",
    "        \n",
    "        import radiomics\n",
    "        from radiomics import firstorder, glcm, imageoperations, shape, glrlm, glszm, getTestCase\n",
    "        #calculate the original glszm\n",
    "        glszmFeatures = glszm.RadiomicsGLSZM(croppedImage, croppedMask, **settings)\n",
    "        glszmFeatures.enableAllFeatures()\n",
    "        result = glszmFeatures.execute()\n",
    "        \n",
    "        print(\"Calculated GLSZM.....\")\n",
    "        \n",
    "        glszm_org = glszmFeatures.P_glszm\n",
    "        #The graylevels in original ROI after discretization\n",
    "        graylevels_org = glszmFeatures.coefficients['grayLevels']\n",
    "        print('1')\n",
    "        #vector of all the gray-level valus present in the original ROI\n",
    "        iv_org = glszmFeatures.coefficients['ivector']\n",
    "        print('2')\n",
    "        #vector of all the size zones in the original GLSZM\n",
    "        jv_org = glszmFeatures.coefficients['jvector']\n",
    "        \n",
    "        # sum of all the size zones for all the graylevels of a particular size zones\n",
    "        # for every column of GLSZM, add all the rows\n",
    "        ps_org = glszmFeatures.coefficients['ps']\n",
    "        \n",
    "        #Remove the mineral or saturated phase if it exists FROM GLSZM\n",
    "        if iv_org[iv_org.size - 1] == 256:\n",
    "            print('Mineral phase is present because the graylevel of', iv_org[iv_org.size-1], 'exists.')\n",
    "            mineralGrayLevels_idx = iv_org.size-1\n",
    "            #Calculate the new GLSZM\n",
    "            glszm_no_mineral = np.delete(glszm_org, mineralGrayLevels_idx, 1)\n",
    "            s_nm = glszm_no_mineral.shape\n",
    "            \n",
    "            #Calculate the new ivector\n",
    "            iv_new = iv_org[0:iv_org.size-1]  # shape (Ng,)\n",
    "            \n",
    "            #Calculate the new ps array with zero values\n",
    "            glszm_2d_nm = glszm_no_mineral[0, 0:s_nm[1], 0:s_nm[2]]\n",
    "            ps_new_zeros = np.sum(glszm_2d_nm, 0)\n",
    "            ps_reshape = np.reshape(ps_new_zeros, (1,s_nm[2]))\n",
    "\n",
    "            #Delete columns that specify zone sizes not present in the ROI\n",
    "            emptyZoneSizes = np.where(np.sum(ps_reshape, 0) == 0)\n",
    "            glszm_new = np.delete(glszm_no_mineral, emptyZoneSizes, 2)\n",
    "            s_new = glszm_new.shape\n",
    "            jv_new = np.delete(jv_org, emptyZoneSizes)\n",
    "            ps_new = np.delete(ps_org, emptyZoneSizes, 1)\n",
    "            \n",
    "            # Get the number of zones in this GLSZM\n",
    "            Nz_new = np.sum(glszm_new, (1, 2))  # shape (Nvox,)\n",
    "            Nz_new[Nz_new == 0] = 1  # set sum to numpy.spacing(1) if sum is 0?\n",
    "\n",
    "            # Get the number of voxels represented by this GLSZM: Multiply the zones by their size and sum them\n",
    "            Np_new = np.sum(ps_new * jv_new[None, :], 1)  # shape (Nvox, )\n",
    "            Np_new[Np_new == 0] = 1\n",
    "            \n",
    "            # Get the pg\n",
    "            glszm_2d_new = glszm_new[0, 0:s_new[1], 0:s_new[2]]\n",
    "            pg_reshape = np.sum(glszm_2d_new, 1)\n",
    "            pg_new = np.reshape(pg_reshape, (1,s_new[1]))\n",
    "            \n",
    "        else:\n",
    "            \n",
    "            #just crab the coeffiecients as usual\n",
    "            iv_new = iv_org\n",
    "            jv_new = jv_org\n",
    "            glszm_new = glszm_org\n",
    "            Nz_new = glszmFeatures.coefficients['Nz']\n",
    "            Np_new = glszmFeatures.coefficients['Np']\n",
    "            pg_new = glszmFeatures.coefficients['pg']\n",
    "            ps_new = glszmFeatures.coefficients['ps']\n",
    "                    \n",
    "        jvector = jv_new\n",
    "        ivector = iv_new\n",
    "        ps = ps_new\n",
    "        pg = pg_new\n",
    "        Np = Np_new\n",
    "        Nz = Nz_new\n",
    "        pg_norm = pg/Nz[:, None]\n",
    "        ps_norm = ps/Nz[:, None]\n",
    "        eps = np.spacing(1)\n",
    "        glszm = glszm_new\n",
    "        print('The shape of the old glszm is', str(glszm_org.shape), '. The shape of the new glszm is', str(glszm.shape))\n",
    "        glszm_norm = glszm_new/Nz[:, None, None]\n",
    "        \n",
    "        print(\"GLSZM processing complete ...\")\n",
    "        \n",
    "        #del glszm_org, glszm_new, iv_org, jv_org, ps_org, mineralGrayLevels_idx, glszm_no_mineral, s_nm, iv_new, glszm_2d_nm\n",
    "        #del ps_new_zeros, ps_reshape, emptyZoneSizes, glszm_new, s_new, jv_new, ps_new, Nz_new, Np_new, glszm_2d_nm, pg_reshape\n",
    "        #del pg_new\n",
    "            \n",
    "        #Calculate glszm features and normalize the features\n",
    "        print(\"Initiating GLSZM feature calculation...... \")\n",
    "        lae =[]\n",
    "        \n",
    "        sae = np.sum(ps / (jvector[None, :] ** 2), 1) / Nz #small area emphaisis\n",
    "        sae = sae.astype(float)\n",
    "        lae = np.sum(ps * (jvector[None, :] ** 2), 1) / Nz #large area emphaisis\n",
    "        iv = np.sum(pg ** 2, 1) / Nz #graylevel non-uniformity\n",
    "        ivn = np.sum(pg ** 2, 1) / Nz ** 2 #graylevel non-uniformity normalized\n",
    "        szv = np.sum(ps ** 2, 1) / Nz #size zone uniformity\n",
    "        szvn = np.sum(ps ** 2, 1) / Nz ** 2 #size zone uniformity normalised\n",
    "        zp = Nz / Np # zone percentage\n",
    "        u_i = np.sum(pg_norm * ivector[None, :], 1, keepdims=True) # mean calculation for graylevel variance\n",
    "        glv = np.sum(pg_norm * (ivector[None, :] - u_i) ** 2, 1) # graylevel variance\n",
    "        u_j = np.sum(ps_norm * jvector[None, :], 1, keepdims=True) #mean caluclation of zone variance\n",
    "        zv = np.sum(ps_norm * (jvector[None, :] - u_j) ** 2, 1) #zone variance\n",
    "        ze = -np.sum(glszm_norm * np.log2(glszm_norm + eps), (1, 2)) #zone entropy\n",
    "        lie = np.sum(pg / (ivector[None, :] ** 2), 1) / Nz #Low graylevel zone emphaisis\n",
    "        hie = np.sum(pg * (ivector[None, :] ** 2), 1) / Nz #high graylevel zone emphaisis\n",
    "        lisae = np.sum(glszm / ((ivector[None, :, None] ** 2) * (jvector[None, None, :] ** 2)), (1, 2)) / Nz #small area low graylevel emphaisis\n",
    "        hisae = np.sum(glszm * (ivector[None, :, None] ** 2) / (jvector[None, None, :] ** 2), (1, 2)) / Nz #small area high graylevel emphaisis\n",
    "        lilae = np.sum(glszm * (jvector[None, None, :] ** 2) / (ivector[None, :, None] ** 2), (1, 2)) / Nz #large area low gray level emphaisis\n",
    "        hilae = np.sum(glszm * (ivector[None, :, None] ** 2) * (jvector[None, None, :] ** 2), (1, 2)) / Nz #large area high gray level emphaisis\n",
    "        \n",
    "        #normalise features by the number of voxels\n",
    "        iv_np = iv/Np\n",
    "        glv_np = glv/Np\n",
    "        hie_np = hie/Np\n",
    "        lae_np = lae/Np\n",
    "        hilae_np = hilae/Np\n",
    "        lilae_np = lilae/Np\n",
    "        szv_np = szv/Np\n",
    "        hisae_np = hisae/Np\n",
    "        zv_np = zv/Np\n",
    "        \n",
    "        #append values\n",
    "        v1.append(iv)\n",
    "        v1_norm.append(iv_np)\n",
    "        v2.append(ivn)\n",
    "        v3.append(glv)\n",
    "        v3_norm.append(glv_np)\n",
    "        v4.append(hie)\n",
    "        v4_norm.append(hie_np)\n",
    "        v5.append(lae)\n",
    "        v5_norm.append(lae_np)\n",
    "        v6.append(hilae)\n",
    "        v6_norm.append(hilae_np)\n",
    "        v7.append(lilae)\n",
    "        v7_norm.append(lilae_np)\n",
    "        v8.append(lie)\n",
    "        v9.append(szv)\n",
    "        v9_norm.append(szv_np)\n",
    "        v10.append(szvn)\n",
    "        v11.append(sae)\n",
    "        v12.append(hisae)\n",
    "        v12_norm.append(hisae_np)\n",
    "        v13.append(lisae)\n",
    "        v14.append(ze)\n",
    "        v15.append(zp)\n",
    "        v16.append(zv)\n",
    "        v16_norm.append(zv_np)\n",
    "        \n",
    "        #del sae, lae, iv, ivn, szv, szvn, zp, u_i, glv, u_j, zv, ze, lie, hie, lisae, hisae, lilae, hilae\n",
    "        #del iv_np, glv_np, hie_np, lae_np, hilae_np, lilae_np, szv_np, hisae_np, zv_np\n",
    "        \n",
    "        \n",
    "        print(\"Completed calculations for domain centre size =\", str(window_size))\n",
    "    \n",
    "    # Create a data-frame to store all the GLSZM features for the image    \n",
    "    my_df = pd.DataFrame(list(zip(u_window_size, v1, v2, v3, v4, v5, v6, v7, v8, v9, v10, v11, v12, v13, v14, v15, v16, \\\n",
    "                                  v1_norm, v3_norm, v4_norm, v5_norm, v6_norm, v7_norm, v9_norm, v12_norm, v16_norm)))\n",
    "    my_df = my_df.rename(index = str, columns={0: \"Window Sizes\", 1: \"GrayLevelNonUniformity\", 2: \"GrayLevelNonUniformityNormalized\", \\\n",
    "                                   3: \"GrayLevelVariance\", 4: \"HighGrayLevelZoneEmphasis\", 5: \"LargeAreaEmphasis\", \\\n",
    "                                   6: \"LargeAreaHighGrayLevelEmphasis\", 7: \"LargeAreaLowGrayLevelEmphasis\", 8: \"LowGrayLevelZoneEmphasis\", \\\n",
    "                                   9: \"SizeZoneNonUniformity\", 10: \"SizeZoneNonUniformityNormalized\", 11: \"SmallAreaEmphasis\", \\\n",
    "                                   12: \"SmallAreaHighGrayLevelEmphasis\", 13: \"SmallAreaLowGrayLevelEmphasis\", 14: \"ZoneEntropy\", \\\n",
    "                                   15: \"ZonePercentage\", 16: \"ZoneVariance\", 17: \"Norm GrayLevelNonUniformity\", \\\n",
    "                                   18: \"Norm GrayLevelVariance\", 19: \"Norm HighGrayLevelZoneEmphasis\", 20: \"Norm LargeAreaEmphasis\", \\\n",
    "                                   21: \"Norm LargeAreaHighGrayLevelEmphasis\", 22: \"Norm LargeAreaLowGrayLevelEmphasis\", \\\n",
    "                                   23: \"Norm SizeZoneNonUniformity\", 24:\"Norm SmallAreaHighGrayLevelEmphasis\", 25: \"Norm ZoneVariance\"})    \n",
    "    \n",
    "    name_csv = 'glszm_crrtd_dc_data{}.csv'.format(num_img)\n",
    "    my_df.to_csv(name_csv, index=False, header=True)\n",
    "    \n",
    "    print(\"Stored all the GLSZM features for image\", str(num_img), \"in a csv file\")\n",
    "    \n",
    "    #free the memory and delete all the variables\n",
    "    del image_1\n",
    "    del my_df\n",
    "    del glszmFeatures"
   ]
  },
  {
   "cell_type": "code",
   "execution_count": 9,
   "metadata": {},
   "outputs": [
    {
     "data": {
      "text/plain": [
       "array([[[0., 1., 0., ..., 0., 0., 0.],\n",
       "        [1., 0., 0., ..., 0., 0., 0.],\n",
       "        [4., 0., 0., ..., 0., 0., 0.],\n",
       "        ...,\n",
       "        [5., 0., 0., ..., 0., 0., 0.],\n",
       "        [7., 0., 0., ..., 0., 0., 0.],\n",
       "        [2., 1., 1., ..., 0., 0., 0.]]])"
      ]
     },
     "execution_count": 9,
     "metadata": {},
     "output_type": "execute_result"
    }
   ],
   "source": [
    "glszm_org"
   ]
  },
  {
   "cell_type": "code",
   "execution_count": 5,
   "metadata": {},
   "outputs": [
    {
     "data": {
      "text/plain": [
       "[0.7776104377993489]"
      ]
     },
     "execution_count": 5,
     "metadata": {},
     "output_type": "execute_result"
    }
   ],
   "source": [
    "sae"
   ]
  },
  {
   "cell_type": "code",
   "execution_count": 6,
   "metadata": {},
   "outputs": [
    {
     "data": {
      "text/plain": [
       "list"
      ]
     },
     "execution_count": 6,
     "metadata": {},
     "output_type": "execute_result"
    }
   ],
   "source": [
    "type(sae)"
   ]
  },
  {
   "cell_type": "code",
   "execution_count": 7,
   "metadata": {},
   "outputs": [
    {
     "ename": "AttributeError",
     "evalue": "'list' object has no attribute 'astype'",
     "output_type": "error",
     "traceback": [
      "\u001b[1;31m---------------------------------------------------------------------------\u001b[0m",
      "\u001b[1;31mAttributeError\u001b[0m                            Traceback (most recent call last)",
      "\u001b[1;32m<ipython-input-7-6e32c62b43fa>\u001b[0m in \u001b[0;36m<module>\u001b[1;34m\u001b[0m\n\u001b[1;32m----> 1\u001b[1;33m \u001b[0msae\u001b[0m\u001b[1;33m.\u001b[0m\u001b[0mastype\u001b[0m\u001b[1;33m(\u001b[0m\u001b[0mstr\u001b[0m\u001b[1;33m)\u001b[0m\u001b[1;33m\u001b[0m\u001b[1;33m\u001b[0m\u001b[0m\n\u001b[0m",
      "\u001b[1;31mAttributeError\u001b[0m: 'list' object has no attribute 'astype'"
     ]
    }
   ],
   "source": [
    "sae.astype(str)"
   ]
  },
  {
   "cell_type": "code",
   "execution_count": 46,
   "metadata": {},
   "outputs": [
    {
     "data": {
      "text/plain": [
       "array([0.77761044])"
      ]
     },
     "execution_count": 46,
     "metadata": {},
     "output_type": "execute_result"
    }
   ],
   "source": [
    "sae"
   ]
  },
  {
   "cell_type": "code",
   "execution_count": 47,
   "metadata": {},
   "outputs": [
    {
     "data": {
      "text/plain": [
       "array([9.73098405])"
      ]
     },
     "execution_count": 47,
     "metadata": {},
     "output_type": "execute_result"
    }
   ],
   "source": [
    "lae"
   ]
  },
  {
   "cell_type": "code",
   "execution_count": 48,
   "metadata": {},
   "outputs": [
    {
     "data": {
      "text/plain": [
       "numpy.ndarray"
      ]
     },
     "execution_count": 48,
     "metadata": {},
     "output_type": "execute_result"
    }
   ],
   "source": [
    "type(lae)"
   ]
  },
  {
   "cell_type": "code",
   "execution_count": 49,
   "metadata": {},
   "outputs": [],
   "source": [
    "x = np.array([2, 3, 4])"
   ]
  },
  {
   "cell_type": "code",
   "execution_count": 50,
   "metadata": {},
   "outputs": [
    {
     "data": {
      "text/plain": [
       "numpy.ndarray"
      ]
     },
     "execution_count": 50,
     "metadata": {},
     "output_type": "execute_result"
    }
   ],
   "source": [
    "type(x)"
   ]
  },
  {
   "cell_type": "code",
   "execution_count": 52,
   "metadata": {},
   "outputs": [
    {
     "data": {
      "text/plain": [
       "numpy.int32"
      ]
     },
     "execution_count": 52,
     "metadata": {},
     "output_type": "execute_result"
    }
   ],
   "source": [
    "type(x[0])\n"
   ]
  },
  {
   "cell_type": "code",
   "execution_count": 53,
   "metadata": {},
   "outputs": [
    {
     "data": {
      "text/plain": [
       "numpy.float64"
      ]
     },
     "execution_count": 53,
     "metadata": {},
     "output_type": "execute_result"
    }
   ],
   "source": [
    "type(sae[0])"
   ]
  },
  {
   "cell_type": "code",
   "execution_count": null,
   "metadata": {},
   "outputs": [],
   "source": [
    "type(lae)"
   ]
  },
  {
   "cell_type": "code",
   "execution_count": 54,
   "metadata": {},
   "outputs": [
    {
     "data": {
      "text/plain": [
       "array([2, 3, 4])"
      ]
     },
     "execution_count": 54,
     "metadata": {},
     "output_type": "execute_result"
    }
   ],
   "source": [
    "x"
   ]
  },
  {
   "cell_type": "code",
   "execution_count": null,
   "metadata": {},
   "outputs": [],
   "source": [
    "lae.tolist()"
   ]
  },
  {
   "cell_type": "code",
   "execution_count": 55,
   "metadata": {},
   "outputs": [
    {
     "data": {
      "text/plain": [
       "[array([1.]),\n",
       " array([1.66666667]),\n",
       " array([3.]),\n",
       " array([4.64179104]),\n",
       " array([7.10169492]),\n",
       " array([8.89714286]),\n",
       " array([10.47035573]),\n",
       " array([12.9893617]),\n",
       " array([15.24324324]),\n",
       " array([44.15699956]),\n",
       " array([119.3203693]),\n",
       " array([278.78959652]),\n",
       " array([552.12567358]),\n",
       " array([979.02152396]),\n",
       " array([3199.13638271]),\n",
       " array([4345.25479257]),\n",
       " array([7414.93971529]),\n",
       " array([14351.27118992]),\n",
       " array([24648.9535127]),\n",
       " array([33640.32507446])]"
      ]
     },
     "execution_count": 55,
     "metadata": {},
     "output_type": "execute_result"
    }
   ],
   "source": [
    "v1"
   ]
  },
  {
   "cell_type": "code",
   "execution_count": null,
   "metadata": {},
   "outputs": [],
   "source": [
    "np.vstack(v1)"
   ]
  },
  {
   "cell_type": "code",
   "execution_count": null,
   "metadata": {},
   "outputs": [],
   "source": [
    "np.savetxt('test.txt', v1)"
   ]
  },
  {
   "cell_type": "code",
   "execution_count": null,
   "metadata": {},
   "outputs": [],
   "source": [
    "np.savetxt('test2.txt',v2)"
   ]
  },
  {
   "cell_type": "code",
   "execution_count": null,
   "metadata": {},
   "outputs": [],
   "source": [
    "v2"
   ]
  },
  {
   "cell_type": "code",
   "execution_count": 56,
   "metadata": {},
   "outputs": [
    {
     "data": {
      "text/plain": [
       "list"
      ]
     },
     "execution_count": 56,
     "metadata": {},
     "output_type": "execute_result"
    }
   ],
   "source": [
    "type(v1)"
   ]
  },
  {
   "cell_type": "code",
   "execution_count": null,
   "metadata": {},
   "outputs": [],
   "source": [
    "my_df = pd.DataFrame(v1)"
   ]
  },
  {
   "cell_type": "code",
   "execution_count": null,
   "metadata": {},
   "outputs": [],
   "source": [
    "my_df.to_csv('xxxx.csv')"
   ]
  },
  {
   "cell_type": "code",
   "execution_count": 19,
   "metadata": {},
   "outputs": [
    {
     "ename": "AttributeError",
     "evalue": "'list' object has no attribute 'dtye'",
     "output_type": "error",
     "traceback": [
      "\u001b[1;31m---------------------------------------------------------------------------\u001b[0m",
      "\u001b[1;31mAttributeError\u001b[0m                            Traceback (most recent call last)",
      "\u001b[1;32m<ipython-input-19-2ef53f941d59>\u001b[0m in \u001b[0;36m<module>\u001b[1;34m\u001b[0m\n\u001b[1;32m----> 1\u001b[1;33m \u001b[0mu_window_size\u001b[0m\u001b[1;33m.\u001b[0m\u001b[0mdtye\u001b[0m\u001b[1;33m\u001b[0m\u001b[1;33m\u001b[0m\u001b[0m\n\u001b[0m",
      "\u001b[1;31mAttributeError\u001b[0m: 'list' object has no attribute 'dtye'"
     ]
    }
   ],
   "source": [
    "u_window_size.dtye"
   ]
  },
  {
   "cell_type": "code",
   "execution_count": 11,
   "metadata": {},
   "outputs": [
    {
     "data": {
      "text/plain": [
       "list"
      ]
     },
     "execution_count": 11,
     "metadata": {},
     "output_type": "execute_result"
    }
   ],
   "source": [
    "type(u_window_size)"
   ]
  },
  {
   "cell_type": "code",
   "execution_count": 12,
   "metadata": {},
   "outputs": [
    {
     "data": {
      "text/plain": [
       "[array([1.]),\n",
       " array([1.66666667]),\n",
       " array([3.]),\n",
       " array([4.64179104]),\n",
       " array([7.10169492]),\n",
       " array([8.89714286]),\n",
       " array([10.47035573]),\n",
       " array([12.9893617]),\n",
       " array([15.24324324]),\n",
       " array([44.15699956]),\n",
       " array([119.3203693]),\n",
       " array([278.78959652]),\n",
       " array([552.12567358]),\n",
       " array([979.02152396]),\n",
       " array([3199.13638271]),\n",
       " array([4345.25479257]),\n",
       " array([7414.93971529]),\n",
       " array([14351.27118992]),\n",
       " array([24648.9535127]),\n",
       " array([33640.32507446])]"
      ]
     },
     "execution_count": 12,
     "metadata": {},
     "output_type": "execute_result"
    }
   ],
   "source": [
    "v1"
   ]
  },
  {
   "cell_type": "code",
   "execution_count": 22,
   "metadata": {},
   "outputs": [
    {
     "data": {
      "text/plain": [
       "numpy.ndarray"
      ]
     },
     "execution_count": 22,
     "metadata": {},
     "output_type": "execute_result"
    }
   ],
   "source": [
    "type(sae)"
   ]
  },
  {
   "cell_type": "code",
   "execution_count": 23,
   "metadata": {},
   "outputs": [
    {
     "data": {
      "text/plain": [
       "array([1.])"
      ]
     },
     "execution_count": 23,
     "metadata": {},
     "output_type": "execute_result"
    }
   ],
   "source": [
    "v1[0]"
   ]
  },
  {
   "cell_type": "code",
   "execution_count": 24,
   "metadata": {},
   "outputs": [
    {
     "data": {
      "text/plain": [
       "numpy.ndarray"
      ]
     },
     "execution_count": 24,
     "metadata": {},
     "output_type": "execute_result"
    }
   ],
   "source": [
    "type(v1[0])"
   ]
  },
  {
   "cell_type": "code",
   "execution_count": 25,
   "metadata": {},
   "outputs": [
    {
     "data": {
      "text/plain": [
       "array([0.77761044])"
      ]
     },
     "execution_count": 25,
     "metadata": {},
     "output_type": "execute_result"
    }
   ],
   "source": [
    "sae"
   ]
  },
  {
   "cell_type": "code",
   "execution_count": 26,
   "metadata": {},
   "outputs": [
    {
     "data": {
      "text/plain": [
       "[0.7776104377993489]"
      ]
     },
     "execution_count": 26,
     "metadata": {},
     "output_type": "execute_result"
    }
   ],
   "source": [
    "sae.tolist()"
   ]
  },
  {
   "cell_type": "code",
   "execution_count": 27,
   "metadata": {},
   "outputs": [
    {
     "data": {
      "text/plain": [
       "array([0.77761044])"
      ]
     },
     "execution_count": 27,
     "metadata": {},
     "output_type": "execute_result"
    }
   ],
   "source": [
    "sae.astype(float)"
   ]
  },
  {
   "cell_type": "code",
   "execution_count": 28,
   "metadata": {},
   "outputs": [
    {
     "data": {
      "text/plain": [
       "1.0"
      ]
     },
     "execution_count": 28,
     "metadata": {},
     "output_type": "execute_result"
    }
   ],
   "source": [
    "v1[0][0]"
   ]
  },
  {
   "cell_type": "code",
   "execution_count": 29,
   "metadata": {},
   "outputs": [
    {
     "data": {
      "text/plain": [
       "20"
      ]
     },
     "execution_count": 29,
     "metadata": {},
     "output_type": "execute_result"
    }
   ],
   "source": [
    "len(v1)"
   ]
  },
  {
   "cell_type": "code",
   "execution_count": 30,
   "metadata": {},
   "outputs": [
    {
     "data": {
      "text/plain": [
       "1"
      ]
     },
     "execution_count": 30,
     "metadata": {},
     "output_type": "execute_result"
    }
   ],
   "source": [
    "len(v1[0])"
   ]
  },
  {
   "cell_type": "code",
   "execution_count": 31,
   "metadata": {},
   "outputs": [
    {
     "data": {
      "text/plain": [
       "20"
      ]
     },
     "execution_count": 31,
     "metadata": {},
     "output_type": "execute_result"
    }
   ],
   "source": [
    "len(u_window_size)"
   ]
  },
  {
   "cell_type": "code",
   "execution_count": 32,
   "metadata": {},
   "outputs": [
    {
     "ename": "TypeError",
     "evalue": "object of type 'int' has no len()",
     "output_type": "error",
     "traceback": [
      "\u001b[1;31m---------------------------------------------------------------------------\u001b[0m",
      "\u001b[1;31mTypeError\u001b[0m                                 Traceback (most recent call last)",
      "\u001b[1;32m<ipython-input-32-645f91d4c05a>\u001b[0m in \u001b[0;36m<module>\u001b[1;34m\u001b[0m\n\u001b[1;32m----> 1\u001b[1;33m \u001b[0mlen\u001b[0m\u001b[1;33m(\u001b[0m\u001b[0mu_window_size\u001b[0m\u001b[1;33m[\u001b[0m\u001b[1;36m0\u001b[0m\u001b[1;33m]\u001b[0m\u001b[1;33m)\u001b[0m\u001b[1;33m\u001b[0m\u001b[1;33m\u001b[0m\u001b[0m\n\u001b[0m",
      "\u001b[1;31mTypeError\u001b[0m: object of type 'int' has no len()"
     ]
    }
   ],
   "source": [
    "len(u_window_size[0])"
   ]
  },
  {
   "cell_type": "code",
   "execution_count": 33,
   "metadata": {},
   "outputs": [
    {
     "data": {
      "text/plain": [
       "array([0.77761044])"
      ]
     },
     "execution_count": 33,
     "metadata": {},
     "output_type": "execute_result"
    }
   ],
   "source": [
    "np.sum(ps / (jvector[None, :] ** 2), 1) / Nz"
   ]
  },
  {
   "cell_type": "code",
   "execution_count": 34,
   "metadata": {},
   "outputs": [
    {
     "data": {
      "text/plain": [
       "array([4660363.])"
      ]
     },
     "execution_count": 34,
     "metadata": {},
     "output_type": "execute_result"
    }
   ],
   "source": [
    "Nz"
   ]
  },
  {
   "cell_type": "code",
   "execution_count": 35,
   "metadata": {},
   "outputs": [
    {
     "data": {
      "text/plain": [
       "array([[3.414225e+06, 6.893820e+05, 2.334920e+05, 1.073700e+05,\n",
       "        5.984700e+04, 3.728200e+04, 2.533800e+04, 1.803900e+04,\n",
       "        1.328600e+04, 1.004900e+04, 7.777000e+03, 6.450000e+03,\n",
       "        5.183000e+03, 4.106000e+03, 3.393000e+03, 2.955000e+03,\n",
       "        2.464000e+03, 2.157000e+03, 1.698000e+03, 1.585000e+03,\n",
       "        1.366000e+03, 1.230000e+03, 1.091000e+03, 1.003000e+03,\n",
       "        8.330000e+02, 7.550000e+02, 6.040000e+02, 6.270000e+02,\n",
       "        5.280000e+02, 4.640000e+02, 3.990000e+02, 3.620000e+02,\n",
       "        3.580000e+02, 3.040000e+02, 3.060000e+02, 2.880000e+02,\n",
       "        2.320000e+02, 2.100000e+02, 2.070000e+02, 2.090000e+02,\n",
       "        1.620000e+02, 1.500000e+02, 1.610000e+02, 1.410000e+02,\n",
       "        1.350000e+02, 1.180000e+02, 1.230000e+02, 1.190000e+02,\n",
       "        1.020000e+02, 1.000000e+02, 8.300000e+01, 7.900000e+01,\n",
       "        6.700000e+01, 6.700000e+01, 6.700000e+01, 6.900000e+01,\n",
       "        5.900000e+01, 5.200000e+01, 6.000000e+01, 5.100000e+01,\n",
       "        3.400000e+01, 4.700000e+01, 3.000000e+01, 5.100000e+01,\n",
       "        4.200000e+01, 4.000000e+01, 3.400000e+01, 4.000000e+01,\n",
       "        2.200000e+01, 2.700000e+01, 1.900000e+01, 2.600000e+01,\n",
       "        2.400000e+01, 1.700000e+01, 2.200000e+01, 2.300000e+01,\n",
       "        2.100000e+01, 1.900000e+01, 1.300000e+01, 1.400000e+01,\n",
       "        2.000000e+01, 1.300000e+01, 3.000000e+01, 1.600000e+01,\n",
       "        1.200000e+01, 1.100000e+01, 2.000000e+01, 6.000000e+00,\n",
       "        1.000000e+01, 9.000000e+00, 5.000000e+00, 1.200000e+01,\n",
       "        7.000000e+00, 9.000000e+00, 6.000000e+00, 6.000000e+00,\n",
       "        1.400000e+01, 3.000000e+00, 2.000000e+00, 1.100000e+01,\n",
       "        4.000000e+00, 1.100000e+01, 2.000000e+00, 5.000000e+00,\n",
       "        1.200000e+01, 7.000000e+00, 3.000000e+00, 6.000000e+00,\n",
       "        6.000000e+00, 4.000000e+00, 2.000000e+00, 2.000000e+00,\n",
       "        6.000000e+00, 2.000000e+00, 3.000000e+00, 3.000000e+00,\n",
       "        6.000000e+00, 4.000000e+00, 5.000000e+00, 1.000000e+00,\n",
       "        2.000000e+00, 4.000000e+00, 3.000000e+00, 3.000000e+00,\n",
       "        2.000000e+00, 3.000000e+00, 1.000000e+00, 1.000000e+00,\n",
       "        1.000000e+00, 4.000000e+00, 1.000000e+00, 2.000000e+00,\n",
       "        1.000000e+00, 1.000000e+00, 1.000000e+00, 2.000000e+00,\n",
       "        1.000000e+00, 4.000000e+00, 1.000000e+00, 2.000000e+00,\n",
       "        1.000000e+00, 1.000000e+00, 4.000000e+00, 1.000000e+00,\n",
       "        3.000000e+00, 1.000000e+00, 1.000000e+00, 1.000000e+00,\n",
       "        1.000000e+00, 1.000000e+00, 1.000000e+00, 1.000000e+00,\n",
       "        2.000000e+00, 1.000000e+00, 1.000000e+00, 1.000000e+00,\n",
       "        1.000000e+00]])"
      ]
     },
     "execution_count": 35,
     "metadata": {},
     "output_type": "execute_result"
    }
   ],
   "source": [
    "ps"
   ]
  },
  {
   "cell_type": "code",
   "execution_count": 36,
   "metadata": {},
   "outputs": [
    {
     "data": {
      "text/plain": [
       "int"
      ]
     },
     "execution_count": 36,
     "metadata": {},
     "output_type": "execute_result"
    }
   ],
   "source": [
    "type(u_window_size[0])"
   ]
  },
  {
   "cell_type": "code",
   "execution_count": 37,
   "metadata": {},
   "outputs": [
    {
     "data": {
      "text/plain": [
       "numpy.ndarray"
      ]
     },
     "execution_count": 37,
     "metadata": {},
     "output_type": "execute_result"
    }
   ],
   "source": [
    "type(v1[0])"
   ]
  },
  {
   "cell_type": "code",
   "execution_count": 39,
   "metadata": {},
   "outputs": [],
   "source": [
    "v1_f = v1[0].astype(float)"
   ]
  },
  {
   "cell_type": "code",
   "execution_count": 40,
   "metadata": {},
   "outputs": [
    {
     "data": {
      "text/plain": [
       "array([1.])"
      ]
     },
     "execution_count": 40,
     "metadata": {},
     "output_type": "execute_result"
    }
   ],
   "source": [
    "v1_f"
   ]
  },
  {
   "cell_type": "code",
   "execution_count": 41,
   "metadata": {},
   "outputs": [
    {
     "data": {
      "text/plain": [
       "array([1.])"
      ]
     },
     "execution_count": 41,
     "metadata": {},
     "output_type": "execute_result"
    }
   ],
   "source": [
    "v1[0]"
   ]
  },
  {
   "cell_type": "code",
   "execution_count": 42,
   "metadata": {},
   "outputs": [
    {
     "data": {
      "text/plain": [
       "numpy.ndarray"
      ]
     },
     "execution_count": 42,
     "metadata": {},
     "output_type": "execute_result"
    }
   ],
   "source": [
    "type(Nz)"
   ]
  },
  {
   "cell_type": "code",
   "execution_count": 43,
   "metadata": {},
   "outputs": [
    {
     "data": {
      "text/plain": [
       "numpy.float64"
      ]
     },
     "execution_count": 43,
     "metadata": {},
     "output_type": "execute_result"
    }
   ],
   "source": [
    "type(Nz[0])"
   ]
  },
  {
   "cell_type": "code",
   "execution_count": null,
   "metadata": {},
   "outputs": [],
   "source": []
  }
 ],
 "metadata": {
  "kernelspec": {
   "display_name": "REV_New",
   "language": "python",
   "name": "rev_new"
  },
  "language_info": {
   "codemirror_mode": {
    "name": "ipython",
    "version": 3
   },
   "file_extension": ".py",
   "mimetype": "text/x-python",
   "name": "python",
   "nbconvert_exporter": "python",
   "pygments_lexer": "ipython3",
   "version": "3.6.8"
  }
 },
 "nbformat": 4,
 "nbformat_minor": 2
}
