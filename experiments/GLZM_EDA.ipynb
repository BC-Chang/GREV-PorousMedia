{
 "cells": [
  {
   "cell_type": "markdown",
   "metadata": {},
   "source": [
    "#### Import all libraries"
   ]
  },
  {
   "cell_type": "code",
   "execution_count": 102,
   "metadata": {},
   "outputs": [],
   "source": [
    "from __future__ import print_function\n",
    "import os\n",
    "import collections\n",
    "import SimpleITK as sitk\n",
    "import numpy as np\n",
    "import six\n",
    "import radiomics\n",
    "from radiomics import firstorder, glcm, imageoperations, shape, glrlm, glszm, getTestCase\n",
    "import scipy as sp\n",
    "import matplotlib as mpl\n",
    "import matplotlib.pyplot as plt\n",
    "from pathlib import Path\n",
    "import sys\n",
    "import logging as logger\n",
    "import time\n",
    "import json\n",
    "import os\n",
    "import logging.config\n",
    "import pandas as pd\n",
    "import gc\n",
    "import math"
   ]
  },
  {
   "cell_type": "code",
   "execution_count": 103,
   "metadata": {},
   "outputs": [],
   "source": [
    "from IPython.core.interactiveshell import InteractiveShell\n",
    "InteractiveShell.ast_node_interactivity = \"all\""
   ]
  },
  {
   "cell_type": "code",
   "execution_count": 104,
   "metadata": {},
   "outputs": [],
   "source": [
    "#Read the entire Benthiemer sandstone\n",
    "global image_1, label_1\n",
    "#change the path to the correct directory before running the code\n",
    "# please note: the dimensions of the image is 800 x 800 x 800\n",
    "image_1 = sitk.ReadImage('D:\\\\Ankita PhD\\\\pyradiomics\\\\data\\\\experiments\\\\data18.nrrd')"
   ]
  },
  {
   "cell_type": "markdown",
   "metadata": {},
   "source": [
    "#### Extraction Settings"
   ]
  },
  {
   "cell_type": "code",
   "execution_count": 105,
   "metadata": {},
   "outputs": [],
   "source": [
    "settings = {}\n",
    "settings['label'] = 255\n",
    "settings['binWidth'] = 1\n",
    "settings['padDistance'] = 0\n",
    "settings['distances'] = [1]"
   ]
  },
  {
   "cell_type": "markdown",
   "metadata": {},
   "source": [
    "#### Log messages"
   ]
  },
  {
   "cell_type": "code",
   "execution_count": 66,
   "metadata": {},
   "outputs": [],
   "source": [
    "log_file = 'D:\\\\Ankita PhD\\\\pyradiomics\\\\log_messages\\\\data14_sandpack.txt'\n",
    "handler = logging.FileHandler(filename=log_file, mode='w')  # overwrites log_files from previous runs. Change mode to 'a' to append.\n",
    "formatter = logging.Formatter(\"%(levelname)s:%(name)s: %(message)s\")  # format string for log messages\n",
    "handler.setFormatter(formatter)\n",
    "radiomics.logger.addHandler(handler)\n",
    "\n",
    "# Control the amount of logging stored by setting the level of the logger. N.B. if the level is higher than the\n",
    "# Verbositiy level, the logger level will also determine the amount of information printed to the output\n",
    "radiomics.logger.setLevel(logging.DEBUG)"
   ]
  },
  {
   "cell_type": "code",
   "execution_count": 106,
   "metadata": {
    "scrolled": true
   },
   "outputs": [
    {
     "name": "stdout",
     "output_type": "stream",
     "text": [
      "Calculating GLSZM features...\n",
      "done\n",
      "Calculated GLSZM features: \n",
      "\t GrayLevelNonUniformity : 33640.325074463086\n",
      "\t GrayLevelNonUniformityNormalized : 0.007218391587621626\n",
      "\t GrayLevelVariance : 2570.893724948612\n",
      "\t HighGrayLevelZoneEmphasis : 16799.474488789823\n",
      "\t LargeAreaEmphasis : 9.730984045663396\n",
      "\t LargeAreaHighGrayLevelEmphasis : 244016.891885675\n",
      "\t LargeAreaLowGrayLevelEmphasis : 0.001794604743569884\n",
      "\t LowGrayLevelZoneEmphasis : 0.00019445907171714575\n",
      "\t SizeZoneNonUniformity : 2618816.309077855\n",
      "\t SizeZoneNonUniformityNormalized : 0.5619339757606554\n",
      "\t SmallAreaEmphasis : 0.7776104377993489\n",
      "\t SmallAreaHighGrayLevelEmphasis : 12439.729136341379\n",
      "\t SmallAreaLowGrayLevelEmphasis : 0.00014307799421306073\n",
      "\t ZoneEntropy : 8.630407417688525\n",
      "\t ZonePercentage : 0.582545375\n",
      "\t ZoneVariance : 6.7842531080207245\n",
      "Completed Domain Calculations for Window  200\n",
      "Wall time: 3.53 s\n"
     ]
    }
   ],
   "source": [
    "%%time\n",
    "# the size of the mask should be the same as that of the image\n",
    "mask_x = 200\n",
    "mask_y = 200\n",
    "mask_z = 200\n",
    "\n",
    "v1 = []\n",
    "v2 = []\n",
    "v3 = []\n",
    "v4 = []\n",
    "v5 = []\n",
    "v6 = []\n",
    "v7 = []\n",
    "v8 = []\n",
    "v9 = []\n",
    "v10 = []\n",
    "v11 = []\n",
    "v12 = []\n",
    "v13 = []\n",
    "v14 = []\n",
    "v15 = []\n",
    "v16 = []\n",
    "\n",
    "# here the window_size refers to the region of mask that will be used to segment the ROI from the image. The window\n",
    "# sizes increase with every iteration\n",
    "u_window_size = [200] #10, 20, 30, 40, 50, 60, 100, 150, 200, 250, 300, 350, 400, 450, 500, 550, 600, 650, 700, 750, 800]\n",
    "global window_size, total_iter, expect_iter, i_loc, j_loc, z_loc, bb, correctedMask, croppedImage, croppedMask, glcm_window\n",
    "for window_size in u_window_size:  \n",
    "    \n",
    "    i_loc = int((mask_x - window_size)/2)\n",
    "    j_loc = int((mask_y - window_size)/2)\n",
    "    k_loc = int((mask_z - window_size)/2)\n",
    "    \n",
    "    # Generate the mask\n",
    "    full_mask = np.zeros((mask_x, mask_y, mask_z), dtype = np.uint8)\n",
    "    full_mask[i_loc:i_loc+window_size,j_loc:j_loc+window_size,k_loc:k_loc+window_size] = 255\n",
    "    #print(\"Window Location\", str(i_loc), str(i_loc+window_size), str(j_loc), str(j_loc+window_size), str(k_loc), str(k_loc+window_size))\n",
    "    label_1 = sitk.GetImageFromArray(full_mask, isVector=False)\n",
    "    del full_mask\n",
    "\n",
    "    bb, correctedMask = imageoperations.checkMask(image_1, label_1, label=255)\n",
    "    if correctedMask is not None:\n",
    "        label_1 = correctedMask\n",
    "    croppedImage, croppedMask = imageoperations.cropToTumorMask(image_1, label_1, bb)\n",
    "    del correctedMask, label_1\n",
    "\n",
    "    #calculate secondorder stats\n",
    "    glszmFeatures = glszm.RadiomicsGLSZM(croppedImage, croppedMask, **settings)\n",
    "    glszmFeatures.enableAllFeatures()\n",
    "    print('Calculating GLSZM features...',)\n",
    "    result = glszmFeatures.execute()\n",
    "    print('done')\n",
    "    \n",
    "    print('Calculated GLSZM features: ')\n",
    "    for key, value in six.iteritems(result):\n",
    "        print('\\t', key, ':', value)\n",
    "        \n",
    "    print(\"Completed Domain Calculations for Window \", str(window_size))"
   ]
  },
  {
   "cell_type": "code",
   "execution_count": 107,
   "metadata": {},
   "outputs": [
    {
     "data": {
      "text/plain": [
       "array([[[ 23,  21,  24, ...,  58,  61,  62],\n",
       "        [ 26,  28,  25, ...,  90, 100,  99],\n",
       "        [ 26,  24,  20, ..., 134, 142, 148],\n",
       "        ...,\n",
       "        [179, 166, 167, ..., 146, 141, 148],\n",
       "        [179, 173, 168, ..., 145, 137, 134],\n",
       "        [173, 179, 169, ..., 137, 122, 117]],\n",
       "\n",
       "       [[ 16,  19,  22, ...,  55,  55,  59],\n",
       "        [ 21,  26,  26, ...,  89,  93,  94],\n",
       "        [ 20,  25,  25, ..., 135, 142, 142],\n",
       "        ...,\n",
       "        [180, 166, 162, ..., 152, 148, 158],\n",
       "        [180, 172, 164, ..., 144, 146, 151],\n",
       "        [174, 173, 171, ..., 131, 132, 136]],\n",
       "\n",
       "       [[ 16,  25,  19, ...,  53,  50,  57],\n",
       "        [ 18,  21,  24, ...,  88,  89,  95],\n",
       "        [ 16,  19,  23, ..., 133, 140, 145],\n",
       "        ...,\n",
       "        [177, 169, 161, ..., 157, 160, 161],\n",
       "        [182, 177, 164, ..., 147, 154, 158],\n",
       "        [172, 171, 167, ..., 136, 139, 149]],\n",
       "\n",
       "       ...,\n",
       "\n",
       "       [[162, 173, 179, ..., 181, 181, 172],\n",
       "        [170, 171, 174, ..., 175, 176, 180],\n",
       "        [171, 177, 179, ..., 179, 182, 177],\n",
       "        ...,\n",
       "        [156, 161, 167, ...,  38,  36,  39],\n",
       "        [155, 160, 162, ...,  38,  35,  34],\n",
       "        [161, 162, 165, ...,  36,  37,  33]],\n",
       "\n",
       "       [[170, 171, 176, ..., 183, 177, 174],\n",
       "        [177, 173, 176, ..., 171, 178, 180],\n",
       "        [171, 176, 183, ..., 167, 172, 171],\n",
       "        ...,\n",
       "        [167, 171, 173, ...,  42,  30,  37],\n",
       "        [171, 171, 170, ...,  34,  30,  34],\n",
       "        [171, 170, 170, ...,  36,  36,  31]],\n",
       "\n",
       "       [[166, 164, 174, ..., 181, 178, 176],\n",
       "        [173, 173, 174, ..., 178, 180, 177],\n",
       "        [167, 172, 173, ..., 179, 170, 172],\n",
       "        ...,\n",
       "        [166, 173, 174, ...,  32,  32,  35],\n",
       "        [169, 174, 175, ...,  32,  33,  35],\n",
       "        [171, 173, 174, ...,  33,  35,  27]]], dtype=uint8)"
      ]
     },
     "execution_count": 107,
     "metadata": {},
     "output_type": "execute_result"
    }
   ],
   "source": [
    "im_exp = sitk.GetArrayFromImage(croppedImage)\n",
    "im_exp"
   ]
  },
  {
   "cell_type": "code",
   "execution_count": 108,
   "metadata": {},
   "outputs": [
    {
     "data": {
      "text/plain": [
       "array([[[0., 1., 0., ..., 0., 0., 0.],\n",
       "        [1., 0., 0., ..., 0., 0., 0.],\n",
       "        [4., 0., 0., ..., 0., 0., 0.],\n",
       "        ...,\n",
       "        [5., 0., 0., ..., 0., 0., 0.],\n",
       "        [7., 0., 0., ..., 0., 0., 0.],\n",
       "        [2., 1., 1., ..., 0., 0., 0.]]])"
      ]
     },
     "execution_count": 108,
     "metadata": {},
     "output_type": "execute_result"
    }
   ],
   "source": [
    "glszm_3 = glszmFeatures.P_glszm\n",
    "glszm_3"
   ]
  },
  {
   "cell_type": "code",
   "execution_count": 109,
   "metadata": {},
   "outputs": [
    {
     "data": {
      "text/plain": [
       "(1, 253, 157)"
      ]
     },
     "execution_count": 109,
     "metadata": {},
     "output_type": "execute_result"
    }
   ],
   "source": [
    "glszm_3.shape"
   ]
  },
  {
   "cell_type": "code",
   "execution_count": 110,
   "metadata": {},
   "outputs": [
    {
     "data": {
      "text/plain": [
       "numpy.ndarray"
      ]
     },
     "execution_count": 110,
     "metadata": {},
     "output_type": "execute_result"
    }
   ],
   "source": [
    "type(glszm_3)"
   ]
  },
  {
   "cell_type": "code",
   "execution_count": 111,
   "metadata": {},
   "outputs": [
    {
     "data": {
      "text/plain": [
       "(253, 157)"
      ]
     },
     "execution_count": 111,
     "metadata": {},
     "output_type": "execute_result"
    }
   ],
   "source": [
    "glszm = glszm_3[0, 0:253, 0:157]\n",
    "glszm.shape"
   ]
  },
  {
   "cell_type": "code",
   "execution_count": 126,
   "metadata": {},
   "outputs": [],
   "source": [
    "pd.DataFrame(glszm).to_csv(\"D:\\\\Ankita PhD\\\\pyradiomics\\\\data\\\\data18_glszm.csv\")"
   ]
  },
  {
   "cell_type": "code",
   "execution_count": 112,
   "metadata": {},
   "outputs": [
    {
     "data": {
      "text/plain": [
       "array([  1,   2,   3,   4,   5,   6,   7,   8,   9,  10,  11,  12,  13,\n",
       "        14,  15,  16,  17,  18,  19,  20,  21,  22,  23,  24,  25,  26,\n",
       "        27,  28,  29,  30,  31,  32,  33,  34,  35,  36,  37,  38,  39,\n",
       "        40,  41,  42,  43,  44,  45,  46,  47,  48,  49,  50,  51,  52,\n",
       "        53,  54,  55,  56,  57,  58,  59,  60,  61,  62,  63,  65,  66,\n",
       "        67,  68,  69,  70,  71,  72,  73,  74,  75,  76,  77,  78,  79,\n",
       "        80,  81,  82,  83,  84,  85,  86,  87,  88,  89,  90,  91,  92,\n",
       "        93,  94,  95,  96,  97,  98,  99, 100, 101, 102, 103, 104, 105,\n",
       "       106, 107, 108, 109, 110, 111, 112, 113, 114, 115, 116, 117, 118,\n",
       "       119, 120, 121, 122, 123, 124, 125, 126, 127, 129, 130, 131, 132,\n",
       "       133, 134, 135, 136, 137, 138, 139, 140, 141, 142, 143, 144, 145,\n",
       "       146, 147, 148, 149, 150, 151, 152, 153, 154, 155, 156, 157, 158,\n",
       "       159, 160, 161, 162, 163, 164, 165, 166, 167, 168, 169, 170, 171,\n",
       "       172, 173, 174, 175, 176, 177, 178, 179, 180, 181, 182, 183, 184,\n",
       "       185, 186, 187, 188, 189, 190, 191, 193, 194, 195, 196, 197, 198,\n",
       "       199, 200, 201, 202, 203, 204, 205, 206, 207, 208, 209, 210, 211,\n",
       "       212, 213, 214, 215, 216, 217, 218, 219, 220, 221, 222, 223, 224,\n",
       "       225, 226, 227, 228, 229, 230, 231, 232, 233, 234, 235, 236, 237,\n",
       "       238, 239, 240, 241, 242, 243, 244, 245, 246, 247, 248, 249, 250,\n",
       "       251, 252, 253, 254, 255, 256])"
      ]
     },
     "execution_count": 112,
     "metadata": {},
     "output_type": "execute_result"
    }
   ],
   "source": [
    "#The graylevels in ROI after discretization\n",
    "graylevels = glszmFeatures.coefficients['grayLevels']\n",
    "graylevels"
   ]
  },
  {
   "cell_type": "code",
   "execution_count": 113,
   "metadata": {},
   "outputs": [
    {
     "data": {
      "text/plain": [
       "array([[3.414225e+06, 6.893820e+05, 2.334920e+05, 1.073700e+05,\n",
       "        5.984700e+04, 3.728200e+04, 2.533800e+04, 1.803900e+04,\n",
       "        1.328600e+04, 1.004900e+04, 7.777000e+03, 6.450000e+03,\n",
       "        5.183000e+03, 4.106000e+03, 3.393000e+03, 2.955000e+03,\n",
       "        2.464000e+03, 2.157000e+03, 1.698000e+03, 1.585000e+03,\n",
       "        1.366000e+03, 1.230000e+03, 1.091000e+03, 1.003000e+03,\n",
       "        8.330000e+02, 7.550000e+02, 6.040000e+02, 6.270000e+02,\n",
       "        5.280000e+02, 4.640000e+02, 3.990000e+02, 3.620000e+02,\n",
       "        3.580000e+02, 3.040000e+02, 3.060000e+02, 2.880000e+02,\n",
       "        2.320000e+02, 2.100000e+02, 2.070000e+02, 2.090000e+02,\n",
       "        1.620000e+02, 1.500000e+02, 1.610000e+02, 1.410000e+02,\n",
       "        1.350000e+02, 1.180000e+02, 1.230000e+02, 1.190000e+02,\n",
       "        1.020000e+02, 1.000000e+02, 8.300000e+01, 7.900000e+01,\n",
       "        6.700000e+01, 6.700000e+01, 6.700000e+01, 6.900000e+01,\n",
       "        5.900000e+01, 5.200000e+01, 6.000000e+01, 5.100000e+01,\n",
       "        3.400000e+01, 4.700000e+01, 3.000000e+01, 5.100000e+01,\n",
       "        4.200000e+01, 4.000000e+01, 3.400000e+01, 4.000000e+01,\n",
       "        2.200000e+01, 2.700000e+01, 1.900000e+01, 2.600000e+01,\n",
       "        2.400000e+01, 1.700000e+01, 2.200000e+01, 2.300000e+01,\n",
       "        2.100000e+01, 1.900000e+01, 1.300000e+01, 1.400000e+01,\n",
       "        2.000000e+01, 1.300000e+01, 3.000000e+01, 1.600000e+01,\n",
       "        1.200000e+01, 1.100000e+01, 2.000000e+01, 6.000000e+00,\n",
       "        1.000000e+01, 9.000000e+00, 5.000000e+00, 1.200000e+01,\n",
       "        7.000000e+00, 9.000000e+00, 6.000000e+00, 6.000000e+00,\n",
       "        1.400000e+01, 3.000000e+00, 2.000000e+00, 1.100000e+01,\n",
       "        4.000000e+00, 1.100000e+01, 2.000000e+00, 5.000000e+00,\n",
       "        1.200000e+01, 7.000000e+00, 3.000000e+00, 6.000000e+00,\n",
       "        6.000000e+00, 4.000000e+00, 2.000000e+00, 2.000000e+00,\n",
       "        6.000000e+00, 2.000000e+00, 3.000000e+00, 3.000000e+00,\n",
       "        6.000000e+00, 4.000000e+00, 5.000000e+00, 1.000000e+00,\n",
       "        2.000000e+00, 4.000000e+00, 3.000000e+00, 3.000000e+00,\n",
       "        2.000000e+00, 3.000000e+00, 1.000000e+00, 1.000000e+00,\n",
       "        1.000000e+00, 4.000000e+00, 1.000000e+00, 2.000000e+00,\n",
       "        1.000000e+00, 1.000000e+00, 1.000000e+00, 2.000000e+00,\n",
       "        1.000000e+00, 4.000000e+00, 1.000000e+00, 2.000000e+00,\n",
       "        1.000000e+00, 1.000000e+00, 4.000000e+00, 1.000000e+00,\n",
       "        3.000000e+00, 1.000000e+00, 1.000000e+00, 1.000000e+00,\n",
       "        1.000000e+00, 1.000000e+00, 1.000000e+00, 1.000000e+00,\n",
       "        2.000000e+00, 1.000000e+00, 1.000000e+00, 1.000000e+00,\n",
       "        1.000000e+00]])"
      ]
     },
     "execution_count": 113,
     "metadata": {},
     "output_type": "execute_result"
    }
   ],
   "source": [
    "# sum of all the size zones for all the graylevels of a particular size zones\n",
    "# for every column of GLSZM, add all the rows\n",
    "pss = glszmFeatures.coefficients['ps']\n",
    "pss"
   ]
  },
  {
   "cell_type": "code",
   "execution_count": 127,
   "metadata": {},
   "outputs": [
    {
     "data": {
      "text/plain": [
       "(1, 157)"
      ]
     },
     "execution_count": 127,
     "metadata": {},
     "output_type": "execute_result"
    }
   ],
   "source": [
    "pss.shape"
   ]
  },
  {
   "cell_type": "code",
   "execution_count": 114,
   "metadata": {},
   "outputs": [
    {
     "data": {
      "text/plain": [
       "array([8000000.])"
      ]
     },
     "execution_count": 114,
     "metadata": {},
     "output_type": "execute_result"
    }
   ],
   "source": [
    "#Np is the number of voxels in the image\n",
    "Npp = glszmFeatures.coefficients['Np']\n",
    "Npp"
   ]
  },
  {
   "cell_type": "code",
   "execution_count": 115,
   "metadata": {},
   "outputs": [
    {
     "data": {
      "text/plain": [
       "array([4660363.])"
      ]
     },
     "execution_count": 115,
     "metadata": {},
     "output_type": "execute_result"
    }
   ],
   "source": [
    "#The total number of size zones in the GLSZM (add all the elements of P_glszm)\n",
    "Nzz = glszmFeatures.coefficients['Nz']\n",
    "Nzz"
   ]
  },
  {
   "cell_type": "code",
   "execution_count": 116,
   "metadata": {},
   "outputs": [
    {
     "data": {
      "text/plain": [
       "256"
      ]
     },
     "execution_count": 116,
     "metadata": {},
     "output_type": "execute_result"
    }
   ],
   "source": [
    "#Number of all possible discreet intensity values in the image: This incluedes  NgVector = range(1, Ng + 1) i.e.\n",
    "#all the missing grayvalues as well. Later the missing grayvalues are excluded. \n",
    "Ngg = glszmFeatures.coefficients['Ng']\n",
    "Ngg"
   ]
  },
  {
   "cell_type": "code",
   "execution_count": 117,
   "metadata": {},
   "outputs": [
    {
     "data": {
      "text/plain": [
       "array([[1.0000e+00, 1.0000e+00, 4.0000e+00, 3.0000e+00, 5.0000e+00,\n",
       "        1.5000e+01, 1.1000e+01, 2.7000e+01, 4.5000e+01, 7.1000e+01,\n",
       "        1.3800e+02, 2.2200e+02, 3.3400e+02, 4.7800e+02, 7.5000e+02,\n",
       "        1.0880e+03, 1.5430e+03, 2.1760e+03, 2.8950e+03, 3.8260e+03,\n",
       "        4.8460e+03, 5.9930e+03, 7.4080e+03, 8.7150e+03, 1.0371e+04,\n",
       "        1.1915e+04, 1.3735e+04, 1.5190e+04, 1.6800e+04, 1.8689e+04,\n",
       "        2.0139e+04, 2.1814e+04, 2.3037e+04, 2.4582e+04, 2.5617e+04,\n",
       "        2.6827e+04, 2.7575e+04, 2.8177e+04, 2.8889e+04, 2.9030e+04,\n",
       "        2.9058e+04, 2.9043e+04, 2.8975e+04, 2.8705e+04, 2.8527e+04,\n",
       "        2.8242e+04, 2.8035e+04, 2.7713e+04, 2.7129e+04, 2.6855e+04,\n",
       "        2.6339e+04, 2.5760e+04, 2.5692e+04, 2.5238e+04, 2.5197e+04,\n",
       "        2.4769e+04, 2.4376e+04, 2.4109e+04, 2.3865e+04, 2.3588e+04,\n",
       "        2.3171e+04, 2.3164e+04, 2.2813e+04, 2.2267e+04, 2.2375e+04,\n",
       "        2.2228e+04, 2.1849e+04, 2.1539e+04, 2.1454e+04, 2.1333e+04,\n",
       "        2.1248e+04, 2.0920e+04, 2.1204e+04, 2.0634e+04, 2.0862e+04,\n",
       "        2.0580e+04, 2.0479e+04, 2.0409e+04, 2.0312e+04, 2.0271e+04,\n",
       "        2.0205e+04, 2.0146e+04, 2.0146e+04, 1.9829e+04, 1.9924e+04,\n",
       "        1.9788e+04, 1.9972e+04, 1.9698e+04, 1.9778e+04, 1.9757e+04,\n",
       "        1.9673e+04, 1.9765e+04, 1.9702e+04, 1.9591e+04, 1.9640e+04,\n",
       "        1.9725e+04, 1.9607e+04, 1.9644e+04, 1.9733e+04, 1.9655e+04,\n",
       "        1.9729e+04, 1.9872e+04, 1.9737e+04, 1.9879e+04, 1.9932e+04,\n",
       "        2.0008e+04, 1.9779e+04, 2.0012e+04, 2.0073e+04, 2.0195e+04,\n",
       "        2.0225e+04, 2.0411e+04, 2.0449e+04, 2.0521e+04, 2.0688e+04,\n",
       "        2.1005e+04, 2.0944e+04, 2.1191e+04, 2.1113e+04, 2.1380e+04,\n",
       "        2.1496e+04, 2.1648e+04, 2.1959e+04, 2.1918e+04, 2.2075e+04,\n",
       "        2.2551e+04, 2.2575e+04, 2.2691e+04, 2.2946e+04, 2.3328e+04,\n",
       "        2.3786e+04, 2.3788e+04, 2.4327e+04, 2.4407e+04, 2.4773e+04,\n",
       "        2.4979e+04, 2.5230e+04, 2.5708e+04, 2.5934e+04, 2.6529e+04,\n",
       "        2.6901e+04, 2.7299e+04, 2.7890e+04, 2.8275e+04, 2.8599e+04,\n",
       "        2.9356e+04, 2.9984e+04, 3.0417e+04, 3.1001e+04, 3.2170e+04,\n",
       "        3.2832e+04, 3.3643e+04, 3.4496e+04, 3.5680e+04, 3.6587e+04,\n",
       "        3.8007e+04, 3.9528e+04, 4.0952e+04, 4.2595e+04, 4.4677e+04,\n",
       "        4.6898e+04, 4.8994e+04, 5.2089e+04, 5.5084e+04, 5.7835e+04,\n",
       "        6.1079e+04, 6.3831e+04, 6.6204e+04, 6.8076e+04, 6.8712e+04,\n",
       "        6.8707e+04, 6.7619e+04, 6.5799e+04, 6.3200e+04, 6.1026e+04,\n",
       "        5.8041e+04, 5.4786e+04, 5.1356e+04, 4.7958e+04, 4.4040e+04,\n",
       "        3.9329e+04, 3.4443e+04, 2.9239e+04, 2.4167e+04, 1.9107e+04,\n",
       "        1.4771e+04, 1.1164e+04, 8.0670e+03, 5.5330e+03, 3.8310e+03,\n",
       "        2.5180e+03, 1.7810e+03, 1.0930e+03, 7.1500e+02, 5.1300e+02,\n",
       "        3.6400e+02, 2.5600e+02, 1.9600e+02, 1.8100e+02, 1.4300e+02,\n",
       "        1.1400e+02, 1.0100e+02, 8.1000e+01, 7.6000e+01, 6.9000e+01,\n",
       "        6.4000e+01, 7.1000e+01, 6.4000e+01, 6.7000e+01, 6.0000e+01,\n",
       "        5.1000e+01, 4.4000e+01, 3.2000e+01, 4.1000e+01, 3.7000e+01,\n",
       "        3.2000e+01, 3.6000e+01, 2.5000e+01, 2.7000e+01, 2.9000e+01,\n",
       "        2.7000e+01, 3.0000e+01, 2.7000e+01, 2.0000e+01, 3.1000e+01,\n",
       "        2.2000e+01, 2.5000e+01, 2.0000e+01, 2.4000e+01, 1.7000e+01,\n",
       "        1.6000e+01, 1.5000e+01, 2.1000e+01, 2.1000e+01, 1.2000e+01,\n",
       "        1.3000e+01, 1.5000e+01, 1.4000e+01, 1.5000e+01, 1.0000e+01,\n",
       "        8.0000e+00, 2.3000e+01, 1.4000e+01, 7.0000e+00, 1.2000e+01,\n",
       "        5.0000e+00, 1.4000e+01, 8.0000e+00, 8.0000e+00, 1.0000e+01,\n",
       "        5.0000e+00, 7.0000e+00, 1.4000e+01]])"
      ]
     },
     "execution_count": 117,
     "metadata": {},
     "output_type": "execute_result"
    }
   ],
   "source": [
    "#sum all the size zones for a particular graylevel\n",
    "#for every row of GLSZM add the columns\n",
    "pgg = glszmFeatures.coefficients['pg']\n",
    "pgg"
   ]
  },
  {
   "cell_type": "code",
   "execution_count": 118,
   "metadata": {},
   "outputs": [
    {
     "data": {
      "text/plain": [
       "(1, 253)"
      ]
     },
     "execution_count": 118,
     "metadata": {},
     "output_type": "execute_result"
    }
   ],
   "source": [
    "pgg.shape"
   ]
  },
  {
   "cell_type": "code",
   "execution_count": 119,
   "metadata": {},
   "outputs": [
    {
     "data": {
      "text/plain": [
       "array([  1.,   2.,   3.,   4.,   5.,   6.,   7.,   8.,   9.,  10.,  11.,\n",
       "        12.,  13.,  14.,  15.,  16.,  17.,  18.,  19.,  20.,  21.,  22.,\n",
       "        23.,  24.,  25.,  26.,  27.,  28.,  29.,  30.,  31.,  32.,  33.,\n",
       "        34.,  35.,  36.,  37.,  38.,  39.,  40.,  41.,  42.,  43.,  44.,\n",
       "        45.,  46.,  47.,  48.,  49.,  50.,  51.,  52.,  53.,  54.,  55.,\n",
       "        56.,  57.,  58.,  59.,  60.,  61.,  62.,  63.,  65.,  66.,  67.,\n",
       "        68.,  69.,  70.,  71.,  72.,  73.,  74.,  75.,  76.,  77.,  78.,\n",
       "        79.,  80.,  81.,  82.,  83.,  84.,  85.,  86.,  87.,  88.,  89.,\n",
       "        90.,  91.,  92.,  93.,  94.,  95.,  96.,  97.,  98.,  99., 100.,\n",
       "       101., 102., 103., 104., 105., 106., 107., 108., 109., 110., 111.,\n",
       "       112., 113., 114., 115., 116., 117., 118., 119., 120., 121., 122.,\n",
       "       123., 124., 125., 126., 127., 129., 130., 131., 132., 133., 134.,\n",
       "       135., 136., 137., 138., 139., 140., 141., 142., 143., 144., 145.,\n",
       "       146., 147., 148., 149., 150., 151., 152., 153., 154., 155., 156.,\n",
       "       157., 158., 159., 160., 161., 162., 163., 164., 165., 166., 167.,\n",
       "       168., 169., 170., 171., 172., 173., 174., 175., 176., 177., 178.,\n",
       "       179., 180., 181., 182., 183., 184., 185., 186., 187., 188., 189.,\n",
       "       190., 191., 193., 194., 195., 196., 197., 198., 199., 200., 201.,\n",
       "       202., 203., 204., 205., 206., 207., 208., 209., 210., 211., 212.,\n",
       "       213., 214., 215., 216., 217., 218., 219., 220., 221., 222., 223.,\n",
       "       224., 225., 226., 227., 228., 229., 230., 231., 232., 233., 234.,\n",
       "       235., 236., 237., 238., 239., 240., 241., 242., 243., 244., 245.,\n",
       "       246., 247., 248., 249., 250., 251., 252., 253., 254., 255., 256.])"
      ]
     },
     "execution_count": 119,
     "metadata": {},
     "output_type": "execute_result"
    }
   ],
   "source": [
    "ivv = glszmFeatures.coefficients['ivector']\n",
    "ivv"
   ]
  },
  {
   "cell_type": "code",
   "execution_count": 120,
   "metadata": {},
   "outputs": [
    {
     "data": {
      "text/plain": [
       "(253,)"
      ]
     },
     "execution_count": 120,
     "metadata": {},
     "output_type": "execute_result"
    }
   ],
   "source": [
    "ivv.shape"
   ]
  },
  {
   "cell_type": "code",
   "execution_count": 128,
   "metadata": {},
   "outputs": [
    {
     "data": {
      "text/plain": [
       "array([  1.,   2.,   3.,   4.,   5.,   6.,   7.,   8.,   9.,  10.,  11.,\n",
       "        12.,  13.,  14.,  15.,  16.,  17.,  18.,  19.,  20.,  21.,  22.,\n",
       "        23.,  24.,  25.,  26.,  27.,  28.,  29.,  30.,  31.,  32.,  33.,\n",
       "        34.,  35.,  36.,  37.,  38.,  39.,  40.,  41.,  42.,  43.,  44.,\n",
       "        45.,  46.,  47.,  48.,  49.,  50.,  51.,  52.,  53.,  54.,  55.,\n",
       "        56.,  57.,  58.,  59.,  60.,  61.,  62.,  63.,  64.,  65.,  66.,\n",
       "        67.,  68.,  69.,  70.,  71.,  72.,  73.,  74.,  75.,  76.,  77.,\n",
       "        78.,  79.,  80.,  81.,  82.,  83.,  84.,  85.,  86.,  87.,  88.,\n",
       "        89.,  90.,  91.,  92.,  93.,  94.,  95.,  96.,  97.,  98.,  99.,\n",
       "       100., 101., 102., 103., 104., 105., 106., 107., 108., 109., 110.,\n",
       "       111., 112., 113., 114., 115., 116., 117., 118., 119., 120., 121.,\n",
       "       122., 123., 124., 126., 128., 129., 130., 132., 133., 138., 139.,\n",
       "       140., 143., 144., 145., 146., 148., 149., 150., 152., 154., 156.,\n",
       "       157., 159., 161., 164., 165., 166., 170., 178., 181., 186., 192.,\n",
       "       218., 225., 228.])"
      ]
     },
     "execution_count": 128,
     "metadata": {},
     "output_type": "execute_result"
    }
   ],
   "source": [
    "jvv = glszmFeatures.coefficients['jvector']\n",
    "jvv"
   ]
  },
  {
   "cell_type": "code",
   "execution_count": 122,
   "metadata": {},
   "outputs": [
    {
     "data": {
      "text/plain": [
       "(157,)"
      ]
     },
     "execution_count": 122,
     "metadata": {},
     "output_type": "execute_result"
    }
   ],
   "source": [
    "jvv.shape"
   ]
  },
  {
   "cell_type": "code",
   "execution_count": 123,
   "metadata": {},
   "outputs": [
    {
     "data": {
      "text/plain": [
       "array([244016.89188567])"
      ]
     },
     "execution_count": 123,
     "metadata": {},
     "output_type": "execute_result"
    }
   ],
   "source": [
    "hilae = np.sum(glszm_3 * (ivv[None, :, None] ** 2) * (jvv[None, None, :] ** 2), (1, 2)) / Nzz\n",
    "hilae"
   ]
  },
  {
   "cell_type": "code",
   "execution_count": 124,
   "metadata": {},
   "outputs": [],
   "source": [
    "pd.DataFrame(jvv).to_csv(\"D:\\\\Ankita PhD\\\\pyradiomics\\\\data\\\\data18_jvv.csv\")"
   ]
  },
  {
   "cell_type": "code",
   "execution_count": 125,
   "metadata": {},
   "outputs": [],
   "source": [
    "pd.DataFrame(ivv).to_csv(\"D:\\\\Ankita PhD\\\\pyradiomics\\\\data\\\\data18_ivv.csv\")"
   ]
  },
  {
   "cell_type": "code",
   "execution_count": null,
   "metadata": {},
   "outputs": [],
   "source": []
  }
 ],
 "metadata": {
  "kernelspec": {
   "display_name": "REV_New",
   "language": "python",
   "name": "rev_new"
  },
  "language_info": {
   "codemirror_mode": {
    "name": "ipython",
    "version": 3
   },
   "file_extension": ".py",
   "mimetype": "text/x-python",
   "name": "python",
   "nbconvert_exporter": "python",
   "pygments_lexer": "ipython3",
   "version": "3.6.8"
  }
 },
 "nbformat": 4,
 "nbformat_minor": 2
}
