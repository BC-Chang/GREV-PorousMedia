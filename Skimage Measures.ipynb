{
 "cells": [
  {
   "cell_type": "code",
   "execution_count": 1,
   "metadata": {},
   "outputs": [],
   "source": [
    "from __future__ import print_function\n",
    "import os\n",
    "import collections\n",
    "import SimpleITK as sitk\n",
    "import numpy as np\n",
    "import six\n",
    "import radiomics\n",
    "from radiomics import firstorder, glcm, imageoperations, shape, glrlm, glszm, getTestCase\n",
    "import scipy as sp\n",
    "import matplotlib as mpl\n",
    "import matplotlib.pyplot as plt\n",
    "from pathlib import Path\n",
    "import sys\n",
    "import logging as logger\n",
    "import time\n",
    "import json\n",
    "import os\n",
    "import logging.config\n",
    "import pandas as pd\n",
    "import gc\n",
    "import math\n",
    "import skimage\n",
    "import matplotlib.pyplot as plt"
   ]
  },
  {
   "cell_type": "code",
   "execution_count": 18,
   "metadata": {},
   "outputs": [],
   "source": [
    "org = plt.imread('C:\\\\Users\\\\admin\\\\Desktop\\\\psnr_test\\\\org_sandpack.tif')\n",
    "org_new = plt.imread('C:\\\\Users\\\\admin\\\\Desktop\\\\psnr_test\\\\org_new.tif')"
   ]
  },
  {
   "cell_type": "code",
   "execution_count": 19,
   "metadata": {},
   "outputs": [],
   "source": [
    "firstpass_sdpk = plt.imread('C:\\\\Users\\\\admin\\\\Desktop\\\\psnr_test\\\\firstpass_sandpack.tif')"
   ]
  },
  {
   "cell_type": "code",
   "execution_count": 20,
   "metadata": {},
   "outputs": [],
   "source": [
    "corrected_sdpk = plt.imread('C:\\\\Users\\\\admin\\\\Desktop\\\\psnr_test\\\\205_sandpack.tif')"
   ]
  },
  {
   "cell_type": "code",
   "execution_count": 21,
   "metadata": {},
   "outputs": [
    {
     "name": "stdout",
     "output_type": "stream",
     "text": [
      "Mean Structural Similarity Index\n",
      "0.2079509136609299\n",
      "0.32283228704225747\n"
     ]
    }
   ],
   "source": [
    "print('Mean Structural Similarity Index')\n",
    "print(skimage.measure.compare_ssim(org_new, firstpass_sdpk))\n",
    "print(skimage.measure.compare_ssim(org_new, corrected_sdpk))"
   ]
  },
  {
   "cell_type": "code",
   "execution_count": 22,
   "metadata": {},
   "outputs": [
    {
     "name": "stdout",
     "output_type": "stream",
     "text": [
      "Mean Squared Error\n",
      "7836.903638888889\n",
      "3731.710397222222\n"
     ]
    }
   ],
   "source": [
    "print('Mean Squared Error')\n",
    "print(skimage.measure.compare_mse(org_new, firstpass_sdpk))\n",
    "print(skimage.measure.compare_mse(org_new, corrected_sdpk))"
   ]
  },
  {
   "cell_type": "code",
   "execution_count": 23,
   "metadata": {},
   "outputs": [
    {
     "name": "stdout",
     "output_type": "stream",
     "text": [
      "Peak Signal to Noise Ratio\n",
      "9.189358540714197\n",
      "12.41172428303782\n"
     ]
    }
   ],
   "source": [
    "print('Peak Signal to Noise Ratio')\n",
    "print(skimage.measure.compare_psnr(org_new, firstpass_sdpk))\n",
    "print(skimage.measure.compare_psnr(org_new, corrected_sdpk))"
   ]
  },
  {
   "cell_type": "code",
   "execution_count": 24,
   "metadata": {},
   "outputs": [
    {
     "name": "stdout",
     "output_type": "stream",
     "text": [
      "Shannon Entropy\n",
      "3.8131639111743083\n",
      "6.274007738811044\n",
      "5.8139685361072075\n"
     ]
    }
   ],
   "source": [
    "print('Shannon Entropy')\n",
    "print(skimage.measure.shannon_entropy(org_new))\n",
    "print(skimage.measure.shannon_entropy(firstpass_sdpk))\n",
    "print(skimage.measure.shannon_entropy(corrected_sdpk))"
   ]
  },
  {
   "cell_type": "code",
   "execution_count": null,
   "metadata": {},
   "outputs": [],
   "source": []
  }
 ],
 "metadata": {
  "kernelspec": {
   "display_name": "REV_New",
   "language": "python",
   "name": "rev_new"
  },
  "language_info": {
   "codemirror_mode": {
    "name": "ipython",
    "version": 3
   },
   "file_extension": ".py",
   "mimetype": "text/x-python",
   "name": "python",
   "nbconvert_exporter": "python",
   "pygments_lexer": "ipython3",
   "version": "3.6.8"
  }
 },
 "nbformat": 4,
 "nbformat_minor": 2
}
